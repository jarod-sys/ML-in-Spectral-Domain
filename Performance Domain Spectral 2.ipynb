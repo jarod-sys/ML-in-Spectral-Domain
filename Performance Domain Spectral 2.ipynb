{
 "cells": [
  {
   "cell_type": "code",
   "execution_count": 11,
   "id": "bb6f6d6e-dbe6-478d-970d-0df9a9535d41",
   "metadata": {},
   "outputs": [
    {
     "name": "stdout",
     "output_type": "stream",
     "text": [
      "The autoreload extension is already loaded. To reload it, use:\n",
      "  %reload_ext autoreload\n"
     ]
    }
   ],
   "source": [
    "%load_ext autoreload\n",
    "%autoreload 2\n",
    "\n",
    "import keras\n",
    "import math\n",
    "import numpy as np\n",
    "import seaborn as sb\n",
    "import tensorflow as tf\n",
    "from statistics import mean\n",
    "import matplotlib.pyplot as plt\n",
    "\n",
    "from Jlayers import SimpleLayer\n",
    "from utilsSimpleConv2D import*\n",
    "from SpectralLayer import Spectral\n",
    "from spectralconvolutions import *\n",
    "from tensorflow.keras.layers import Dense,Layer\n",
    "from typing import Tuple,List,Any,Dict\n",
    "from tensorflow.python.keras import activations, initializers, regularizers, constraints"
   ]
  },
  {
   "cell_type": "code",
   "execution_count": 2,
   "id": "51d87753-25ad-4a25-91b9-58674cb7267a",
   "metadata": {},
   "outputs": [],
   "source": [
    "## Data"
   ]
  },
  {
   "cell_type": "code",
   "execution_count": 3,
   "id": "68383101-7d12-4512-aa85-c4109888a30f",
   "metadata": {},
   "outputs": [],
   "source": [
    "mnist = tf.keras.datasets.mnist\n",
    "(x_train, y_train), (x_test, y_test) = mnist.load_data()\n",
    "\n",
    "\n",
    "x_train, x_test=x_train.reshape(-1,28,28,1), x_test.reshape(-1,28,28,1)\n",
    "\n",
    "x_train, x_test = x_train / 255.0, x_test / 255.0\n",
    "\n",
    "flat_train = np.reshape(x_train, [x_train.shape[0], 28 * 28])\n",
    "flat_test = np.reshape(x_test, [x_test.shape[0], 28 * 28])"
   ]
  },
  {
   "cell_type": "code",
   "execution_count": 4,
   "id": "1b9f0bd6-5bfe-4014-b902-e7f41dacb7b7",
   "metadata": {},
   "outputs": [],
   "source": [
    "## Train only Lambda in"
   ]
  },
  {
   "cell_type": "code",
   "execution_count": 5,
   "id": "f0ca415b-f7c8-48d0-9e2c-74be970db1bf",
   "metadata": {},
   "outputs": [],
   "source": [
    "\n",
    "parameters_two={\"use_lambda_in\":True,\n",
    "            \"use_bias\":False,\n",
    "             \"padding\":'VALID',\n",
    "            \"activation\":'relu'\n",
    "           }\n",
    "spectral_config={\n",
    "    'is_base_trainable' : False,\n",
    "    'is_diag_start_trainable' : False,\n",
    "    'is_diag_end_trainable' : True,\n",
    "}\n",
    "N2=[20,80,100,500,800,1000,1500,2000]\n",
    "epochs = 15\n",
    "batch_size=200\n"
   ]
  },
  {
   "cell_type": "code",
   "execution_count": 9,
   "id": "333d3237-9c58-4800-9cdb-41fe01f245b6",
   "metadata": {},
   "outputs": [
    {
     "name": "stdout",
     "output_type": "stream",
     "text": [
      "Epoch 1/20\n",
      "300/300 [==============================] - 551s 2s/step - loss: 0.9974 - accuracy: 0.8281 - val_loss: 0.3064 - val_accuracy: 0.9085\n",
      "Epoch 2/20\n",
      "300/300 [==============================] - 545s 2s/step - loss: 0.2715 - accuracy: 0.9178 - val_loss: 0.2186 - val_accuracy: 0.9338\n",
      "Epoch 3/20\n",
      "300/300 [==============================] - 546s 2s/step - loss: 0.2171 - accuracy: 0.9348 - val_loss: 0.1880 - val_accuracy: 0.9423\n",
      "Epoch 4/20\n",
      "300/300 [==============================] - 552s 2s/step - loss: 0.1883 - accuracy: 0.9432 - val_loss: 0.1767 - val_accuracy: 0.9468\n",
      "Epoch 5/20\n",
      "300/300 [==============================] - 529s 2s/step - loss: 0.1692 - accuracy: 0.9499 - val_loss: 0.1641 - val_accuracy: 0.9491\n",
      "Epoch 6/20\n",
      "300/300 [==============================] - 527s 2s/step - loss: 0.1568 - accuracy: 0.9532 - val_loss: 0.1581 - val_accuracy: 0.9531\n",
      "Epoch 7/20\n",
      "300/300 [==============================] - 528s 2s/step - loss: 0.1504 - accuracy: 0.9550 - val_loss: 0.1444 - val_accuracy: 0.9564\n",
      "Epoch 8/20\n",
      "300/300 [==============================] - 528s 2s/step - loss: 0.1422 - accuracy: 0.9577 - val_loss: 0.1472 - val_accuracy: 0.9565\n",
      "Epoch 9/20\n",
      "300/300 [==============================] - 527s 2s/step - loss: 0.1359 - accuracy: 0.9589 - val_loss: 0.1458 - val_accuracy: 0.9569\n",
      "Epoch 10/20\n",
      "300/300 [==============================] - 527s 2s/step - loss: 0.1299 - accuracy: 0.9608 - val_loss: 0.1425 - val_accuracy: 0.9580\n",
      "Epoch 11/20\n",
      "300/300 [==============================] - 526s 2s/step - loss: 0.1272 - accuracy: 0.9620 - val_loss: 0.1486 - val_accuracy: 0.9561\n",
      "Epoch 12/20\n",
      "300/300 [==============================] - 527s 2s/step - loss: 0.1237 - accuracy: 0.9627 - val_loss: 0.1449 - val_accuracy: 0.9551\n",
      "Epoch 13/20\n",
      "300/300 [==============================] - 527s 2s/step - loss: 0.1215 - accuracy: 0.9631 - val_loss: 0.1398 - val_accuracy: 0.9603\n",
      "Epoch 14/20\n",
      "300/300 [==============================] - 527s 2s/step - loss: 0.1215 - accuracy: 0.9628 - val_loss: 0.1370 - val_accuracy: 0.9601\n",
      "Epoch 15/20\n",
      "300/300 [==============================] - 528s 2s/step - loss: 0.1204 - accuracy: 0.9636 - val_loss: 0.1332 - val_accuracy: 0.9609\n",
      "Epoch 16/20\n",
      "300/300 [==============================] - 526s 2s/step - loss: 0.1167 - accuracy: 0.9644 - val_loss: 0.1457 - val_accuracy: 0.9571\n",
      "Epoch 17/20\n",
      "300/300 [==============================] - 528s 2s/step - loss: 0.1166 - accuracy: 0.9645 - val_loss: 0.1379 - val_accuracy: 0.9617\n",
      "Epoch 18/20\n",
      "300/300 [==============================] - 526s 2s/step - loss: 0.1124 - accuracy: 0.9661 - val_loss: 0.1539 - val_accuracy: 0.9572\n",
      "Epoch 19/20\n",
      "300/300 [==============================] - 530s 2s/step - loss: 0.1143 - accuracy: 0.9660 - val_loss: 0.1320 - val_accuracy: 0.9591\n",
      "Epoch 20/20\n",
      "300/300 [==============================] - 542s 2s/step - loss: 0.1116 - accuracy: 0.9657 - val_loss: 0.1597 - val_accuracy: 0.9547\n"
     ]
    },
    {
     "ename": "NameError",
     "evalue": "name 'accuracy' is not defined",
     "output_type": "error",
     "traceback": [
      "\u001b[1;31m---------------------------------------------------------------------------\u001b[0m",
      "\u001b[1;31mNameError\u001b[0m                                 Traceback (most recent call last)",
      "Cell \u001b[1;32mIn[9], line 17\u001b[0m\n\u001b[0;32m     15\u001b[0m model\u001b[38;5;241m.\u001b[39mcompile(optimizer\u001b[38;5;241m=\u001b[39mopt, loss\u001b[38;5;241m=\u001b[39m\u001b[38;5;124m'\u001b[39m\u001b[38;5;124msparse_categorical_crossentropy\u001b[39m\u001b[38;5;124m'\u001b[39m, metrics\u001b[38;5;241m=\u001b[39m[\u001b[38;5;124m'\u001b[39m\u001b[38;5;124maccuracy\u001b[39m\u001b[38;5;124m'\u001b[39m])\n\u001b[0;32m     16\u001b[0m history \u001b[38;5;241m=\u001b[39m model\u001b[38;5;241m.\u001b[39mfit(x_train, y_train, batch_size\u001b[38;5;241m=\u001b[39mbatch_size, epochs\u001b[38;5;241m=\u001b[39mepochs,verbose\u001b[38;5;241m=\u001b[39m\u001b[38;5;241m1\u001b[39m,validation_data\u001b[38;5;241m=\u001b[39m(x_test, y_test))\n\u001b[1;32m---> 17\u001b[0m \u001b[43maccuracy\u001b[49m\u001b[38;5;241m.\u001b[39mappend(model\u001b[38;5;241m.\u001b[39mevaluate(x_test,y_test,batch_size\u001b[38;5;241m=\u001b[39m\u001b[38;5;241m32\u001b[39m,verbose\u001b[38;5;241m=\u001b[39m\u001b[38;5;124m\"\u001b[39m\u001b[38;5;124mauto\u001b[39m\u001b[38;5;124m\"\u001b[39m))\n",
      "\u001b[1;31mNameError\u001b[0m: name 'accuracy' is not defined"
     ]
    }
   ],
   "source": [
    "model = tf.keras.Sequential()\n",
    "\n",
    "\n",
    "model.add(tf.keras.layers.Input(shape=(28,28,1)))\n",
    "\n",
    "\n",
    "model.add(SpectralConv2D_two(filters=1, kernel_size=3, strides=1, **parameters_two))\n",
    "model.add(keras.layers.MaxPooling2D((2,2)))      \n",
    "\n",
    "model.add(keras.layers.Flatten())      \n",
    "model.add(Spectral(1000, **spectral_config,use_bias=False, activation=None))\n",
    "model.add(Spectral(10, **spectral_config,use_bias=False, activation='softmax'))\n",
    "\n",
    "opt = tf.keras.optimizers.Adam(learning_rate=0.03)\n",
    "model.compile(optimizer=opt, loss='sparse_categorical_crossentropy', metrics=['accuracy'])\n",
    "history = model.fit(x_train, y_train, batch_size=batch_size, epochs=epochs,verbose=1,validation_data=(x_test, y_test))\n",
    "accuracy.append(model.evaluate(x_test,y_test,batch_size=32,verbose=\"auto\"))"
   ]
  },
  {
   "cell_type": "code",
   "execution_count": 13,
   "id": "9a57b367-8b34-4ee9-b2e2-64eb16d6eb59",
   "metadata": {},
   "outputs": [],
   "source": [
    "accuracy=list()"
   ]
  },
  {
   "cell_type": "code",
   "execution_count": 14,
   "id": "9da307c2-b19e-4a1b-bb9c-9f58f32fdd6a",
   "metadata": {},
   "outputs": [
    {
     "name": "stdout",
     "output_type": "stream",
     "text": [
      "313/313 [==============================] - 213s 677ms/step - loss: 0.1597 - accuracy: 0.9547\n"
     ]
    }
   ],
   "source": [
    "accuracy.append(model.evaluate(x_test,y_test,batch_size=32,verbose=\"auto\"))"
   ]
  },
  {
   "cell_type": "code",
   "execution_count": null,
   "id": "5357cc20-4068-4c1b-ac9a-08dc8641919f",
   "metadata": {},
   "outputs": [
    {
     "name": "stdout",
     "output_type": "stream",
     "text": [
      "Iteration 0: nombre de neurones: 20\n"
     ]
    }
   ],
   "source": [
    "accuracy=list()\n",
    "\n",
    "for i in range(len(N2)):\n",
    "    print(f\"Iteration {i}: nombre de neurones: {N2[i]}\")\n",
    "    model = tf.keras.Sequential()\n",
    "    \n",
    "    \n",
    "    model.add(tf.keras.layers.Input(shape=(28,28,1)))\n",
    "    \n",
    "    \n",
    "    model.add(SpectralConv2D_two(filters=1, kernel_size=3, strides=1, **parameters_two))\n",
    "    model.add(keras.layers.MaxPooling2D((2,2)))      \n",
    "    \n",
    "    model.add(keras.layers.Flatten())      \n",
    "    model.add(Spectral(N2[i], **spectral_config,use_bias=False, activation=None))\n",
    "    model.add(Spectral(10, **spectral_config,use_bias=False, activation='softmax'))\n",
    "\n",
    "    opt = tf.keras.optimizers.Adam(learning_rate=0.005)\n",
    "    model.compile(optimizer=opt, loss='sparse_categorical_crossentropy', metrics=['accuracy'])\n",
    "    history = model.fit(x_train, y_train, batch_size=batch_size, epochs=epochs,verbose=0,validation_data=(x_test, y_test))\n",
    "    accuracy.append(model.evaluate(x_test,y_test,batch_size=32,verbose=\"auto\"))"
   ]
  },
  {
   "cell_type": "code",
   "execution_count": null,
   "id": "86c61915-506f-444a-b18d-b1449598c923",
   "metadata": {},
   "outputs": [],
   "source": [
    "score=list()\n",
    "for i in range(len(N2)):\n",
    "    score.append(accuracy[i][1])"
   ]
  },
  {
   "cell_type": "code",
   "execution_count": null,
   "id": "f7a69ea6-9e00-4549-baa1-91447f11607f",
   "metadata": {},
   "outputs": [],
   "source": [
    "## Dense"
   ]
  },
  {
   "cell_type": "code",
   "execution_count": 12,
   "id": "4acf5aac-2237-414c-8de1-0422d093fd51",
   "metadata": {},
   "outputs": [
    {
     "name": "stdout",
     "output_type": "stream",
     "text": [
      "Iteration 0: nombre de neurones: 20\n",
      "313/313 [==============================] - 1s 3ms/step - loss: 0.1582 - accuracy: 0.9529\n",
      "Iteration 1: nombre de neurones: 80\n",
      "313/313 [==============================] - 1s 3ms/step - loss: 0.1015 - accuracy: 0.9743\n",
      "Iteration 2: nombre de neurones: 100\n",
      "313/313 [==============================] - 1s 3ms/step - loss: 0.1114 - accuracy: 0.9754\n",
      "Iteration 3: nombre de neurones: 500\n",
      "313/313 [==============================] - 1s 3ms/step - loss: 0.0888 - accuracy: 0.9795\n",
      "Iteration 4: nombre de neurones: 800\n",
      "313/313 [==============================] - 1s 4ms/step - loss: 0.1003 - accuracy: 0.9792\n",
      "Iteration 5: nombre de neurones: 1000\n",
      "313/313 [==============================] - 1s 4ms/step - loss: 0.1141 - accuracy: 0.9759\n",
      "Iteration 6: nombre de neurones: 1500\n",
      "313/313 [==============================] - 1s 4ms/step - loss: 0.0930 - accuracy: 0.9791\n",
      "Iteration 7: nombre de neurones: 2000\n",
      "313/313 [==============================] - 1s 4ms/step - loss: 0.2133 - accuracy: 0.9665\n"
     ]
    }
   ],
   "source": [
    "\n",
    "accuracy2=list()\n",
    "N2=[20,80,100,500,800,1000,1500,2000]\n",
    "epochs = 20\n",
    "batch_size=200\n",
    "\n",
    "for i in range(len(N2)):\n",
    "    print(f\"Iteration {i}: nombre de neurones: {N2[i]}\")\n",
    "    model2 = tf.keras.Sequential()\n",
    "    model2.add(tf.keras.layers.Input(shape=(28,28,1)))\n",
    "    \n",
    "    \n",
    "    model2.add(keras.layers.Conv2D(1,(3,3), strides=1,use_bias=False,padding='VALID',activation=\"relu\"))\n",
    "    model2.add(keras.layers.MaxPooling2D((2,2)))\n",
    "    \n",
    "    model2.add(keras.layers.Flatten())  \n",
    "    \n",
    "    \n",
    "    model2.add(Dense(N2[i],use_bias=False,activation='relu'))\n",
    "    model2.add(Dense(10, use_bias=False, activation='softmax'))\n",
    "    \n",
    "               \n",
    "    opt = tf.keras.optimizers.Adam(learning_rate=0.005)\n",
    "    model2.compile(optimizer=opt, loss='sparse_categorical_crossentropy', metrics=['accuracy'])\n",
    "    history = model2.fit(x_train, y_train, batch_size=batch_size, epochs=epochs,verbose=0,validation_data=(x_test, y_test))\n",
    "    accuracy2.append(model2.evaluate(x_test,y_test,batch_size=32,verbose=\"auto\"))"
   ]
  },
  {
   "cell_type": "code",
   "execution_count": null,
   "id": "a08da34a-e8fb-48f5-b06f-5fe077976908",
   "metadata": {},
   "outputs": [],
   "source": [
    "score2=list()\n",
    "for i in range(len(N2)):\n",
    "    score2.append(accuracy2[i][1])"
   ]
  },
  {
   "cell_type": "code",
   "execution_count": null,
   "id": "8e46c2c0-d364-46e2-a0c5-0614722373e7",
   "metadata": {},
   "outputs": [],
   "source": [
    "## Plot"
   ]
  },
  {
   "cell_type": "code",
   "execution_count": null,
   "id": "23da4f33-e7b5-4f96-9857-5a1f4a0a019b",
   "metadata": {},
   "outputs": [],
   "source": [
    "fig=plt.figure(num=1,figsize=(12,7)) \n",
    "plt.plot(N2,score, \"b-\")\n",
    "plt.plot(N2,score2, \"m\")\n",
    "\n",
    "plt.axis([15, 2000, 0, 1])\n",
    "\n",
    "plt.xlabel(\"$N_{2}+N_{3}+N_{4}$\")\n",
    "plt.ylabel(\"accuracy\")\n",
    "plt.title(\"Deep Conv2D: Approche Matricielle 2\")\n",
    "\n",
    "\n",
    "plt.legend([\"SpectralConv2D: Train $\\Lambda^{in}$\",\"Reference: Dense CNN \"],loc='lower right')"
   ]
  },
  {
   "cell_type": "code",
   "execution_count": null,
   "id": "056cfb1f-75f1-42a8-b729-0a3df1de8d0f",
   "metadata": {},
   "outputs": [],
   "source": [
    "## Seulement 3 pourcent des paramètres entraînés!"
   ]
  },
  {
   "cell_type": "code",
   "execution_count": null,
   "id": "d4fead74-4d2a-4b5d-a55d-d494885af1b8",
   "metadata": {},
   "outputs": [],
   "source": [
    "## Distribution des poids"
   ]
  },
  {
   "cell_type": "code",
   "execution_count": null,
   "id": "5a4c4170-3b60-4e0e-8199-0c27687169cc",
   "metadata": {},
   "outputs": [],
   "source": [
    "distributiob_weights=model.trainable_weights[0].numpy().tolist()[0]"
   ]
  },
  {
   "cell_type": "code",
   "execution_count": null,
   "id": "cb46af4f-e2af-4bb3-8b77-db95aa669a13",
   "metadata": {},
   "outputs": [],
   "source": [
    "sb.histplot(distributiob_weights,kde=False,log_scale=False, legend=False)"
   ]
  },
  {
   "cell_type": "code",
   "execution_count": null,
   "id": "cea20a1f-916f-4896-8938-d406d55370e8",
   "metadata": {},
   "outputs": [],
   "source": [
    "## Distribution Lambda in "
   ]
  },
  {
   "cell_type": "code",
   "execution_count": null,
   "id": "21d17f64-15cb-44f0-9565-de8e556e1ed2",
   "metadata": {},
   "outputs": [],
   "source": [
    "parameters_two={\"use_lambda_in\":True,\n",
    "            \"use_bias\":False,\n",
    "             \"padding\":'VALID',\n",
    "            \"activation\":'relu'\n",
    "           }\n",
    "model = tf.keras.Sequential()\n",
    "\n",
    "\n",
    "model.add(tf.keras.layers.Input(shape=(28,28,1)))\n",
    "\n",
    "\n",
    "model.add(SpectralConv2D_two(filters=1, kernel_size=3, strides=1, **parameters_two))\n",
    "model.add(keras.layers.MaxPooling2D((2,2)))\n",
    "\n",
    "\n",
    "model.add(keras.layers.Flatten())      \n",
    "model.add(Spectral(1000, **spectral_config,use_bias=False, activation='relu'))\n",
    "model.add(Spectral(120, **spectral_config,use_bias=False, activation='relu'))\n",
    "model.add(Spectral(10, **spectral_config,use_bias=False, activation='softmax'))\n",
    "\n",
    "opt = tf.keras.optimizers.Adam(learning_rate=0.03)\n",
    "model.compile(optimizer=opt, loss='sparse_categorical_crossentropy', metrics=['accuracy'])\n",
    "model.summary()"
   ]
  },
  {
   "cell_type": "code",
   "execution_count": null,
   "id": "e358dd33-1457-4940-b231-7affbca2b857",
   "metadata": {},
   "outputs": [],
   "source": [
    "model2 = tf.keras.Sequential()\n",
    "model2.add(tf.keras.layers.Input(shape=(28,28,1)))\n",
    "\n",
    "\n",
    "model2.add(keras.layers.Conv2D(1,(3,3), strides=3,use_bias=False,padding='VALID',activation=\"relu\"))\n",
    "model2.add(keras.layers.MaxPooling2D((2,2)))\n",
    "model2.add(keras.layers.Dropout(0.2))   \n",
    "\n",
    "model2.add(keras.layers.Flatten())  \n",
    "\n",
    "\n",
    "model2.add(Dense(N2[i],use_bias=False,activation='relu'))\n",
    "model2.add(keras.layers.Dropout(0.5))\n",
    "model2.add(Dense(120,use_bias=False,activation='relu'))\n",
    "model2.add(Dense(10, use_bias=False, activation='softmax'))\n",
    "\n",
    "           \n",
    "opt = tf.keras.optimizers.Adam(learning_rate=0.03)\n",
    "model2.compile(optimizer=opt, loss='sparse_categorical_crossentropy', metrics=['accuracy'])\n",
    "model2.summary()"
   ]
  },
  {
   "cell_type": "code",
   "execution_count": null,
   "id": "ff1bcf4e-0ab5-43c9-beec-aa7a2d8ffbf3",
   "metadata": {},
   "outputs": [],
   "source": []
  }
 ],
 "metadata": {
  "kernelspec": {
   "display_name": "Python 3 (ipykernel)",
   "language": "python",
   "name": "python3"
  },
  "language_info": {
   "codemirror_mode": {
    "name": "ipython",
    "version": 3
   },
   "file_extension": ".py",
   "mimetype": "text/x-python",
   "name": "python",
   "nbconvert_exporter": "python",
   "pygments_lexer": "ipython3",
   "version": "3.11.2"
  }
 },
 "nbformat": 4,
 "nbformat_minor": 5
}
