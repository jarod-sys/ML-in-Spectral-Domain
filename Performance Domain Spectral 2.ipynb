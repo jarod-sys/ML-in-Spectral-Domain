{
 "cells": [
  {
   "cell_type": "code",
   "execution_count": 1,
   "id": "e6e1c970-eed9-41ad-a0c2-a708ee62d76d",
   "metadata": {},
   "outputs": [],
   "source": [
    "%load_ext autoreload\n",
    "%autoreload 2\n",
    "\n",
    "import numpy as np\n",
    "import tensorflow as tf\n",
    "\n",
    "from SpectralLayer import*\n",
    "from utilsSimpleConv2D import*\n",
    "from spectralconvolutions import *\n",
    "\n",
    "from tensorflow.keras.layers import Layer\n",
    "from typing import Tuple,List,Any,Dict"
   ]
  },
  {
   "cell_type": "code",
   "execution_count": 2,
   "id": "992a2e35-933c-4900-add9-711666f3c848",
   "metadata": {},
   "outputs": [],
   "source": [
    "## Data"
   ]
  },
  {
   "cell_type": "code",
   "execution_count": 3,
   "id": "ddf419d1-f4f0-423a-8a65-56318d4c6f5e",
   "metadata": {},
   "outputs": [],
   "source": [
    "mnist = tf.keras.datasets.mnist\n",
    "(x_train, y_train), (x_test, y_test) = mnist.load_data()\n",
    "\n",
    "x_train, x_test=x_train.reshape(-1,28,28,1), x_test.reshape(-1,28,28,1)\n",
    "\n",
    "x_train, x_test = x_train / 255.0, x_test / 255.0\n",
    "\n",
    "flat_train = np.reshape(x_train, [x_train.shape[0], 28 * 28])\n",
    "flat_test = np.reshape(x_test, [x_test.shape[0], 28 * 28])"
   ]
  },
  {
   "cell_type": "code",
   "execution_count": 4,
   "id": "fb8f2878-4a72-43b1-8722-1e8e888d3076",
   "metadata": {},
   "outputs": [],
   "source": [
    "## Class PaddingJacobiens"
   ]
  },
  {
   "cell_type": "code",
   "execution_count": 5,
   "id": "3f606ca2-4312-40d5-b1e4-163aaea7df41",
   "metadata": {},
   "outputs": [],
   "source": [
    "## class SpecConv2D"
   ]
  },
  {
   "cell_type": "code",
   "execution_count": 6,
   "id": "470ace44-7861-4273-979b-d06104406287",
   "metadata": {},
   "outputs": [],
   "source": [
    "## Create layer specConv2D"
   ]
  },
  {
   "cell_type": "code",
   "execution_count": 7,
   "id": "03827589-946d-4553-9881-87108105aebd",
   "metadata": {},
   "outputs": [
    {
     "name": "stdout",
     "output_type": "stream",
     "text": [
      "Outputs2: KerasTensor(type_spec=TensorSpec(shape=(None, 24, 24, 2), dtype=tf.float32, name=None), name='spec_conv2d/Relu:0', description=\"created by layer 'spec_conv2d'\")\n"
     ]
    }
   ],
   "source": [
    "kernel_size=5\n",
    "inputs=tf.keras.layers.Input(shape=(28,28,2))\n",
    "layer1=PaddingJacobiens(kernel_size=kernel_size,\n",
    "                       strides=1,\n",
    "                        padding='VALID')\n",
    "outputs1=layer1(inputs)\n",
    "#print(f\"Outputs1: {outputs1}\")\n",
    "layer2=SpecConv2D(filters=1,\n",
    "                 kernel_size=kernel_size,\n",
    "                 use_lambda_in=True,\n",
    "                 use_bias=False,\n",
    "                 activation=\"relu\")\n",
    "outputs2=layer2(outputs1)\n",
    "print(f\"Outputs2: {outputs2}\")"
   ]
  },
  {
   "cell_type": "code",
   "execution_count": 8,
   "id": "fcf6dcf9-f731-4967-955b-0ddc62b0a007",
   "metadata": {},
   "outputs": [],
   "source": [
    "## Build model"
   ]
  },
  {
   "cell_type": "code",
   "execution_count": null,
   "id": "5d66d981-0c37-41ff-a8de-3fb98effe456",
   "metadata": {},
   "outputs": [
    {
     "name": "stdout",
     "output_type": "stream",
     "text": [
      "Iteration 0: nombre de neurones: 20\n"
     ]
    }
   ],
   "source": [
    "epochs = 10\n",
    "batch_size=200\n",
    "accuracy=list()\n",
    "\n",
    "spectral_config={\n",
    "    'is_base_trainable' : False,\n",
    "    'is_diag_start_trainable' : False,\n",
    "    'is_diag_end_trainable' : True,\n",
    "}\n",
    "N2=[20,80,100,500,800,1000,1500,2000]\n",
    "\n",
    "for i in range(len(N2)):\n",
    "    print(f\"Iteration {i}: nombre de neurones: {N2[i]}\")\n",
    "    model = tf.keras.Sequential()\n",
    "    model.add(tf.keras.layers.Input(shape=(28,28,1)))\n",
    "    \n",
    "    model.add(PaddingJacobiens(kernel_size=3, strides=1, padding=\"VALID\"))\n",
    "    model.add(SpecConv2D(filters=1, kernel_size=3,use_lambda_in=True,use_bias=False, activation=\"relu\"))\n",
    "    model.add(tf.keras.layers.MaxPooling2D((2,2)))     \n",
    "    \n",
    "    model.add(tf.keras.layers.Flatten())     \n",
    "    \n",
    "    model.add(Spectral(N2[i], **spectral_config,use_bias=False, activation=None))\n",
    "    model.add(Spectral(10, **spectral_config,use_bias=False, activation='softmax'))\n",
    "           \n",
    "    opt = tf.keras.optimizers.Adam(learning_rate=0.005)\n",
    "    model.compile(optimizer=opt, loss='sparse_categorical_crossentropy', metrics=['accuracy'])\n",
    "    history = model.fit(x_train, y_train, batch_size=batch_size, epochs=epochs,verbose=0,validation_data=(x_test, y_test))\n",
    "    accuracy.append(model.evaluate(x_test,y_test,batch_size=32,verbose=\"auto\"))"
   ]
  },
  {
   "cell_type": "code",
   "execution_count": null,
   "id": "5e7dadc5-df35-490b-93dd-d2eacc8464a2",
   "metadata": {},
   "outputs": [],
   "source": [
    "score=list()\n",
    "for i in range(len(N2)):\n",
    "    score.append(accuracy[i][1])"
   ]
  },
  {
   "cell_type": "code",
   "execution_count": null,
   "id": "a8fcf5f1-6a02-4884-92fe-d0125434bc85",
   "metadata": {},
   "outputs": [],
   "source": [
    "## Dense"
   ]
  },
  {
   "cell_type": "code",
   "execution_count": null,
   "id": "d74becd2-ded0-43f5-8cdb-ef8a5b8dab96",
   "metadata": {},
   "outputs": [],
   "source": [
    "\n",
    "accuracy2=list()\n",
    "N2=[20,80,100,500,800,1000,1500,2000]\n",
    "epochs = 20\n",
    "batch_size=200\n",
    "\n",
    "for i in range(len(N2)):\n",
    "    print(f\"Iteration {i}: nombre de neurones: {N2[i]}\")\n",
    "    model2 = tf.keras.Sequential()\n",
    "    model2.add(tf.keras.layers.Input(shape=(28,28,1)))\n",
    "    \n",
    "    \n",
    "    model2.add(keras.layers.Conv2D(1,(3,3), strides=1,use_bias=False,padding='VALID',activation=\"relu\"))\n",
    "    model2.add(keras.layers.MaxPooling2D((2,2)))\n",
    "    \n",
    "    model2.add(keras.layers.Flatten())  \n",
    "    \n",
    "    \n",
    "    model2.add(Dense(N2[i],use_bias=False,activation='relu'))\n",
    "    model2.add(Dense(10, use_bias=False, activation='softmax'))\n",
    "    \n",
    "               \n",
    "    opt = tf.keras.optimizers.Adam(learning_rate=0.005)\n",
    "    model2.compile(optimizer=opt, loss='sparse_categorical_crossentropy', metrics=['accuracy'])\n",
    "    history = model2.fit(x_train, y_train, batch_size=batch_size, epochs=epochs,verbose=0,validation_data=(x_test, y_test))\n",
    "    accuracy2.append(model2.evaluate(x_test,y_test,batch_size=32,verbose=\"auto\"))"
   ]
  },
  {
   "cell_type": "code",
   "execution_count": null,
   "id": "1117c8bb-0942-498a-8ef9-6f8eae0e8190",
   "metadata": {},
   "outputs": [],
   "source": [
    "score2=list()\n",
    "for i in range(len(N2)):\n",
    "    score2.append(accuracy2[i][1])"
   ]
  }
 ],
 "metadata": {
  "kernelspec": {
   "display_name": "Python 3 (ipykernel)",
   "language": "python",
   "name": "python3"
  },
  "language_info": {
   "codemirror_mode": {
    "name": "ipython",
    "version": 3
   },
   "file_extension": ".py",
   "mimetype": "text/x-python",
   "name": "python",
   "nbconvert_exporter": "python",
   "pygments_lexer": "ipython3",
   "version": "3.11.2"
  }
 },
 "nbformat": 4,
 "nbformat_minor": 5
}
