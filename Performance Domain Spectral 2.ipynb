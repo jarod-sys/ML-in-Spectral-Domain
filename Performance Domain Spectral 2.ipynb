{
 "cells": [
  {
   "cell_type": "code",
   "execution_count": 64,
   "id": "e6e1c970-eed9-41ad-a0c2-a708ee62d76d",
   "metadata": {},
   "outputs": [
    {
     "name": "stdout",
     "output_type": "stream",
     "text": [
      "The autoreload extension is already loaded. To reload it, use:\n",
      "  %reload_ext autoreload\n"
     ]
    }
   ],
   "source": [
    "%load_ext autoreload\n",
    "%autoreload 2\n",
    "\n",
    "import numpy as np\n",
    "import tensorflow as tf\n",
    "\n",
    "from matplotlib import pyplot as plt\n",
    "\n",
    "from SpectralLayer import*\n",
    "from utilsSimpleConv2D import*\n",
    "from spectralconvolutions import *\n",
    "\n",
    "from tensorflow.keras.layers import Layer, Dense\n",
    "from typing import Tuple,List,Any,Dict"
   ]
  },
  {
   "cell_type": "code",
   "execution_count": 52,
   "id": "992a2e35-933c-4900-add9-711666f3c848",
   "metadata": {},
   "outputs": [],
   "source": [
    "## Data"
   ]
  },
  {
   "cell_type": "code",
   "execution_count": 53,
   "id": "ddf419d1-f4f0-423a-8a65-56318d4c6f5e",
   "metadata": {},
   "outputs": [],
   "source": [
    "mnist = tf.keras.datasets.mnist\n",
    "(x_train, y_train), (x_test, y_test) = mnist.load_data()\n",
    "\n",
    "x_train, x_test=x_train.reshape(-1,28,28,1), x_test.reshape(-1,28,28,1)\n",
    "\n",
    "x_train, x_test = x_train / 255.0, x_test / 255.0\n",
    "\n",
    "flat_train = np.reshape(x_train, [x_train.shape[0], 28 * 28])\n",
    "flat_test = np.reshape(x_test, [x_test.shape[0], 28 * 28])"
   ]
  },
  {
   "cell_type": "code",
   "execution_count": 54,
   "id": "fb8f2878-4a72-43b1-8722-1e8e888d3076",
   "metadata": {},
   "outputs": [],
   "source": [
    "## Class PaddingJacobiens"
   ]
  },
  {
   "cell_type": "code",
   "execution_count": 55,
   "id": "3f606ca2-4312-40d5-b1e4-163aaea7df41",
   "metadata": {},
   "outputs": [],
   "source": [
    "## class SpecConv2D"
   ]
  },
  {
   "cell_type": "code",
   "execution_count": 56,
   "id": "470ace44-7861-4273-979b-d06104406287",
   "metadata": {},
   "outputs": [],
   "source": [
    "## Create layer specConv2D"
   ]
  },
  {
   "cell_type": "code",
   "execution_count": 57,
   "id": "b69acade-1467-4a89-a12b-f6cecb2b4abe",
   "metadata": {},
   "outputs": [],
   "source": [
    "N=6\n",
    "M=6\n",
    "F=3\n",
    "S=1\n",
    "filters=1"
   ]
  },
  {
   "cell_type": "code",
   "execution_count": 58,
   "id": "ae1b3091-41ef-46ca-a284-170b0e0e8e77",
   "metadata": {
    "scrolled": true
   },
   "outputs": [
    {
     "name": "stdout",
     "output_type": "stream",
     "text": [
      "Image d'entrée: [[[[ 1.47275423e+00]\n",
      "   [-5.99311686e-01]\n",
      "   [ 6.40728982e-01]\n",
      "   [-1.29415510e+00]\n",
      "   [-1.10409355e-01]\n",
      "   [-1.22850953e+00]]\n",
      "\n",
      "  [[-9.30582917e-02]\n",
      "   [-4.73868746e-01]\n",
      "   [-1.65915329e+00]\n",
      "   [-1.50144159e+00]\n",
      "   [-1.01497339e+00]\n",
      "   [-2.47261191e-01]]\n",
      "\n",
      "  [[ 8.08957266e-02]\n",
      "   [ 8.01404675e-01]\n",
      "   [-1.17448435e+00]\n",
      "   [ 2.21797750e-01]\n",
      "   [-1.46249180e+00]\n",
      "   [ 7.63122303e-01]]\n",
      "\n",
      "  [[ 7.11016915e-01]\n",
      "   [-1.47835343e+00]\n",
      "   [ 7.20946576e-01]\n",
      "   [-9.13724149e-01]\n",
      "   [-1.14038061e-01]\n",
      "   [ 4.51680979e-01]]\n",
      "\n",
      "  [[ 6.19263004e-01]\n",
      "   [ 3.50145069e-01]\n",
      "   [ 1.23947839e+00]\n",
      "   [-1.05028096e+00]\n",
      "   [-1.01655638e+00]\n",
      "   [-7.47895356e-01]]\n",
      "\n",
      "  [[-9.37658635e-01]\n",
      "   [ 7.09283575e-01]\n",
      "   [ 5.06731555e-01]\n",
      "   [-8.13723081e-01]\n",
      "   [ 6.44310314e-01]\n",
      "   [-9.52519117e-04]]]]\n"
     ]
    }
   ],
   "source": [
    "img=np.random.normal(0, 1,size=(1,N,M,1))\n",
    "print(f\"Image d'entrée: {img}\")"
   ]
  },
  {
   "cell_type": "code",
   "execution_count": 59,
   "id": "03827589-946d-4553-9881-87108105aebd",
   "metadata": {
    "scrolled": true
   },
   "outputs": [
    {
     "name": "stdout",
     "output_type": "stream",
     "text": [
      "Outputs2: [[[[-0.8058014 ]\n",
      "   [ 1.5486453 ]\n",
      "   [-0.45801234]\n",
      "   [ 0.5597087 ]]\n",
      "\n",
      "  [[ 0.21313316]\n",
      "   [-0.6348072 ]\n",
      "   [-1.4208629 ]\n",
      "   [-1.1718045 ]]\n",
      "\n",
      "  [[ 2.1122625 ]\n",
      "   [-2.34836   ]\n",
      "   [-1.6536478 ]\n",
      "   [ 0.69552624]]\n",
      "\n",
      "  [[-1.6076075 ]\n",
      "   [ 0.8672277 ]\n",
      "   [-0.65719736]\n",
      "   [-0.8960955 ]]]]\n"
     ]
    }
   ],
   "source": [
    "#inputs=tf.keras.layers.Input(shape=(28,28,2))\n",
    "layer1=PaddingJacobiens(kernel_size=F,\n",
    "                       strides=S,\n",
    "                        padding=\"VALID\")\n",
    "outputs1=layer1(img)\n",
    "#print(f\"Outputs1: {outputs1}\")\n",
    "layer2=SpecConv2D(filters=filters,\n",
    "                 kernel_size=F,\n",
    "                 use_lambda_in=True,\n",
    "                 use_bias=False,\n",
    "                 activation=None)\n",
    "outputs2=layer2(outputs1)\n",
    "print(f\"Outputs2: {outputs2}\")"
   ]
  },
  {
   "cell_type": "code",
   "execution_count": 60,
   "id": "ec4b0b8a-3269-4bba-a4f6-450bfee74d15",
   "metadata": {},
   "outputs": [
    {
     "name": "stdout",
     "output_type": "stream",
     "text": [
      "Convolution Classique:\n",
      " [[ 0.30651549 -0.7119088  -4.8872013  -4.9394035  -5.3967505  -2.6011536 ]\n",
      " [ 1.1888158  -1.0040928  -5.038483   -7.354582   -5.874322   -3.300523  ]\n",
      " [-0.4519632  -2.564654   -5.4568768  -6.8975625  -3.8173296  -1.6239609 ]\n",
      " [ 1.0843719   1.8703125  -1.2830704  -3.5493526  -3.8683853  -2.1261783 ]\n",
      " [-0.02630341  2.440853   -0.7294963  -0.79685587 -3.5611792  -0.7834511 ]\n",
      " [ 0.741033    2.487243    0.94163465 -0.49004024 -2.985098   -1.121094  ]]\n"
     ]
    }
   ],
   "source": [
    "noyau=tf.constant(np.ones((F,F)),dtype=tf.float32)\n",
    "print(f\"Convolution Classique:\\n {convolution(img=img[0,:,:,0],kernel=noyau)}\")"
   ]
  },
  {
   "cell_type": "code",
   "execution_count": 61,
   "id": "fcf6dcf9-f731-4967-955b-0ddc62b0a007",
   "metadata": {},
   "outputs": [],
   "source": [
    "## Build model"
   ]
  },
  {
   "cell_type": "code",
   "execution_count": 65,
   "id": "5d66d981-0c37-41ff-a8de-3fb98effe456",
   "metadata": {},
   "outputs": [
    {
     "name": "stdout",
     "output_type": "stream",
     "text": [
      "Iteration 0: nombre de neurones: 20\n",
      "313/313 [==============================] - 6s 18ms/step - loss: 1.0059 - accuracy: 0.6605\n",
      "Iteration 1: nombre de neurones: 80\n",
      "313/313 [==============================] - 6s 18ms/step - loss: 0.7660 - accuracy: 0.7661\n",
      "Iteration 2: nombre de neurones: 100\n",
      "313/313 [==============================] - 5s 17ms/step - loss: 0.7257 - accuracy: 0.7819\n",
      "Iteration 3: nombre de neurones: 500\n",
      "313/313 [==============================] - 6s 16ms/step - loss: 0.6150 - accuracy: 0.8095\n",
      "Iteration 4: nombre de neurones: 800\n",
      "313/313 [==============================] - 7s 21ms/step - loss: 0.6640 - accuracy: 0.8031\n",
      "Iteration 5: nombre de neurones: 1000\n",
      "313/313 [==============================] - 6s 18ms/step - loss: 0.6258 - accuracy: 0.8039\n",
      "Iteration 6: nombre de neurones: 1500\n",
      "313/313 [==============================] - 6s 16ms/step - loss: 0.5975 - accuracy: 0.8214\n",
      "Iteration 7: nombre de neurones: 2000\n",
      "313/313 [==============================] - 6s 18ms/step - loss: 0.6352 - accuracy: 0.8127\n"
     ]
    }
   ],
   "source": [
    "epochs = 10\n",
    "batch_size=200\n",
    "accuracy=list()\n",
    "\n",
    "spectral_config={\n",
    "    'is_base_trainable' : False,\n",
    "    'is_diag_start_trainable' : False,\n",
    "    'is_diag_end_trainable' : True,\n",
    "}\n",
    "N2=[20,80,100,500,800,1000,1500,2000]\n",
    "\n",
    "for i in range(len(N2)):\n",
    "    print(f\"Iteration {i}: nombre de neurones: {N2[i]}\")\n",
    "    model = tf.keras.Sequential()\n",
    "    model.add(tf.keras.layers.Input(shape=(28,28,1)))\n",
    "    \n",
    "    #model.add(PaddingJacobiens(kernel_size=3, strides=1, padding=\"VALID\"))\n",
    "    model.add(SpecConv2D(filters=1, kernel_size=3,use_lambda_in=True,use_bias=False, activation=\"relu\"))\n",
    "    model.add(tf.keras.layers.MaxPooling2D((2,2)))     \n",
    "    \n",
    "    model.add(tf.keras.layers.Flatten())     \n",
    "    \n",
    "    model.add(Spectral(N2[i], **spectral_config,use_bias=False, activation=None))\n",
    "    model.add(Spectral(10, **spectral_config,use_bias=False, activation='softmax'))\n",
    "           \n",
    "    opt = tf.keras.optimizers.Adam(learning_rate=0.03)\n",
    "    model.compile(optimizer=opt, loss='sparse_categorical_crossentropy', metrics=['accuracy'])\n",
    "    history = model.fit(x_train, y_train, batch_size=batch_size, epochs=epochs,verbose=0,validation_data=(x_test, y_test))\n",
    "    accuracy.append(model.evaluate(x_test,y_test,batch_size=32,verbose=\"auto\"))"
   ]
  },
  {
   "cell_type": "code",
   "execution_count": null,
   "id": "5e7dadc5-df35-490b-93dd-d2eacc8464a2",
   "metadata": {},
   "outputs": [],
   "source": [
    "score=list()\n",
    "for i in range(len(N2)):\n",
    "    score.append(accuracy[i][1])"
   ]
  },
  {
   "cell_type": "code",
   "execution_count": 12,
   "id": "a8fcf5f1-6a02-4884-92fe-d0125434bc85",
   "metadata": {},
   "outputs": [],
   "source": [
    "## Dense"
   ]
  },
  {
   "cell_type": "code",
   "execution_count": 16,
   "id": "d74becd2-ded0-43f5-8cdb-ef8a5b8dab96",
   "metadata": {},
   "outputs": [
    {
     "name": "stdout",
     "output_type": "stream",
     "text": [
      "Iteration 0: nombre de neurones: 20\n",
      "313/313 [==============================] - 1s 3ms/step - loss: 0.2851 - accuracy: 0.9211\n",
      "Iteration 1: nombre de neurones: 80\n",
      "313/313 [==============================] - 1s 3ms/step - loss: 0.2848 - accuracy: 0.9185\n",
      "Iteration 2: nombre de neurones: 100\n",
      "313/313 [==============================] - 1s 4ms/step - loss: 0.2848 - accuracy: 0.9195\n",
      "Iteration 3: nombre de neurones: 500\n",
      "313/313 [==============================] - 1s 3ms/step - loss: 0.3026 - accuracy: 0.9064\n",
      "Iteration 4: nombre de neurones: 800\n",
      "313/313 [==============================] - 1s 3ms/step - loss: 0.2939 - accuracy: 0.9147\n",
      "Iteration 5: nombre de neurones: 1000\n",
      "313/313 [==============================] - 1s 3ms/step - loss: 0.2983 - accuracy: 0.9124\n",
      "Iteration 6: nombre de neurones: 1500\n",
      "313/313 [==============================] - 1s 4ms/step - loss: 0.2815 - accuracy: 0.9202\n",
      "Iteration 7: nombre de neurones: 2000\n",
      "313/313 [==============================] - 1s 4ms/step - loss: 0.3067 - accuracy: 0.9122\n"
     ]
    }
   ],
   "source": [
    "\n",
    "accuracy2=list()\n",
    "N2=[20,80,100,500,800,1000,1500,2000]\n",
    "epochs = 10\n",
    "batch_size=200\n",
    "\n",
    "for i in range(len(N2)):\n",
    "    print(f\"Iteration {i}: nombre de neurones: {N2[i]}\")\n",
    "    model2 = tf.keras.Sequential()\n",
    "    model2.add(tf.keras.layers.Input(shape=(28,28,1)))\n",
    "    \n",
    "    \n",
    "    model2.add(tf.keras.layers.Conv2D(1,(3,3), strides=1,use_bias=False,padding='VALID',activation=\"relu\"))\n",
    "    model2.add(tf.keras.layers.MaxPooling2D((2,2)))\n",
    "    \n",
    "    model2.add(tf.keras.layers.Flatten())  \n",
    "    \n",
    "    \n",
    "    model2.add(Dense(N2[i],use_bias=False,activation=None))\n",
    "    model2.add(Dense(10, use_bias=False, activation='softmax'))\n",
    "    \n",
    "               \n",
    "    opt = tf.keras.optimizers.Adam(learning_rate=0.005)\n",
    "    model2.compile(optimizer=opt, loss='sparse_categorical_crossentropy', metrics=['accuracy'])\n",
    "    history = model2.fit(x_train, y_train, batch_size=batch_size, epochs=epochs,verbose=0,validation_data=(x_test, y_test))\n",
    "    accuracy2.append(model2.evaluate(x_test,y_test,batch_size=32,verbose=\"auto\"))"
   ]
  },
  {
   "cell_type": "code",
   "execution_count": 17,
   "id": "1117c8bb-0942-498a-8ef9-6f8eae0e8190",
   "metadata": {},
   "outputs": [],
   "source": [
    "score2=list()\n",
    "for i in range(len(N2)):\n",
    "    score2.append(accuracy2[i][1])"
   ]
  },
  {
   "cell_type": "code",
   "execution_count": 18,
   "id": "fc98db20-5a51-457c-9c8d-5f1917e230b1",
   "metadata": {},
   "outputs": [],
   "source": [
    "## PLot"
   ]
  },
  {
   "cell_type": "code",
   "execution_count": 66,
   "id": "9bfef612-2e79-444b-bc93-43d9aa973ef4",
   "metadata": {},
   "outputs": [
    {
     "data": {
      "image/png": "[encoded data removed]",
      "text/plain": [
       "<Figure size 1200x700 with 1 Axes>"
      ]
     },
     "metadata": {},
     "output_type": "display_data"
    }
   ],
   "source": [
    "fig=plt.figure(num=1,figsize=(12,7)) \n",
    "plt.plot(N2,score2, \"k-\")\n",
    "plt.plot(N2,score, \"m:\")\n",
    "\n",
    "\n",
    "plt.axis([40, 2000, 0, 1])\n",
    "\n",
    "\n",
    "plt.xlabel(\"$N_{2}+N_{3}$\")\n",
    "plt.ylabel(\"accuracy\")\n",
    "\n",
    " #'ConvNet constraint',\n",
    "plt.legend(['Reference',\n",
    "           'SpecConv2D2'],\n",
    "           loc='lower right')\n",
    "plt.show()"
   ]
  },
  {
   "cell_type": "code",
   "execution_count": null,
   "id": "2245bdbd-00c7-4339-b8bf-1341341b9203",
   "metadata": {},
   "outputs": [],
   "source": []
  }
 ],
 "metadata": {
  "kernelspec": {
   "display_name": "Python 3 (ipykernel)",
   "language": "python",
   "name": "python3"
  },
  "language_info": {
   "codemirror_mode": {
    "name": "ipython",
    "version": 3
   },
   "file_extension": ".py",
   "mimetype": "text/x-python",
   "name": "python",
   "nbconvert_exporter": "python",
   "pygments_lexer": "ipython3",
   "version": "3.11.2"
  }
 },
 "nbformat": 4,
 "nbformat_minor": 5
}
