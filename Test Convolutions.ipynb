{
 "cells": [
  {
   "cell_type": "code",
   "execution_count": 31,
   "id": "c2612143-a53c-4322-aba1-50929316b40e",
   "metadata": {},
   "outputs": [
    {
     "name": "stdout",
     "output_type": "stream",
     "text": [
      "The autoreload extension is already loaded. To reload it, use:\n",
      "  %reload_ext autoreload\n"
     ]
    }
   ],
   "source": [
    "%load_ext autoreload\n",
    "%autoreload 2\n",
    "\n",
    "import keras\n",
    "import math\n",
    "import numpy as np\n",
    "import tensorflow as tf\n",
    "import matplotlib.pyplot as plt\n",
    "\n",
    "from Jlayers import SimpleLayer\n",
    "from utilsSimpleConv2D import*\n",
    "from SpectralLayer import Spectral\n",
    "from spectralconvolutions import *\n",
    "from tensorflow.keras.layers import Dense,Layer\n",
    "from typing import Tuple,List,Any,Dict\n",
    "from tensorflow.python.keras import activations, initializers, regularizers, constraints"
   ]
  },
  {
   "cell_type": "code",
   "execution_count": 33,
   "id": "05a72922-b59f-4327-b4a0-09cbf17767ce",
   "metadata": {},
   "outputs": [],
   "source": [
    "## premiere approche\n",
    "N=6\n",
    "M=6\n",
    "F=3\n",
    "S=1\n",
    "filters=1\n",
    "parameters_one={ \"use_lambda_out\":False,\n",
    "                 \"use_lambda_in\":False,\n",
    "                 \"trainable_SM_kernel\":True,\n",
    "                 \"use_bias\":False,\n",
    "                 \"kernel_initializer\":\"glorot_uniform\"\n",
    "           }"
   ]
  },
  {
   "cell_type": "code",
   "execution_count": 45,
   "id": "1f7cdef9-9aa9-4337-8ba4-9d79b0667d7c",
   "metadata": {},
   "outputs": [],
   "source": [
    "layer=(SpectralConv2D_one(filters=1, kernel_size=3, strides=1, padding=\"SAME\", activation=None,**parameters_one))"
   ]
  },
  {
   "cell_type": "code",
   "execution_count": 46,
   "id": "464e9a38-469c-4760-ba5f-56284ec7f519",
   "metadata": {},
   "outputs": [
    {
     "name": "stdout",
     "output_type": "stream",
     "text": [
      "Image d'entrée: [[[[-0.11058789]\n",
      "   [ 0.5610843 ]\n",
      "   [-0.25001861]\n",
      "   [ 1.44179384]\n",
      "   [-1.46574531]\n",
      "   [-0.96255567]]\n",
      "\n",
      "  [[-1.64356712]\n",
      "   [-0.05281451]\n",
      "   [ 1.27462668]\n",
      "   [-0.24590598]\n",
      "   [ 1.62998698]\n",
      "   [ 0.09410845]]\n",
      "\n",
      "  [[-0.26185412]\n",
      "   [ 1.0116733 ]\n",
      "   [ 0.66329297]\n",
      "   [-1.14879754]\n",
      "   [ 0.49632538]\n",
      "   [-0.08384485]]\n",
      "\n",
      "  [[ 0.35109525]\n",
      "   [-0.61492068]\n",
      "   [-1.20410103]\n",
      "   [ 0.90783434]\n",
      "   [ 1.09438419]\n",
      "   [-1.97700282]]\n",
      "\n",
      "  [[-1.33666141]\n",
      "   [ 0.30207893]\n",
      "   [ 0.24910929]\n",
      "   [-0.69951647]\n",
      "   [-1.03863907]\n",
      "   [ 0.83405488]]\n",
      "\n",
      "  [[ 1.00158613]\n",
      "   [ 0.15135926]\n",
      "   [ 1.26026933]\n",
      "   [ 1.04381343]\n",
      "   [-0.41573379]\n",
      "   [-0.57825289]]]]\n"
     ]
    }
   ],
   "source": [
    "img=np.random.normal(0, 1,size=(1,N,M,1))\n",
    "print(f\"Image d'entrée: {img}\")"
   ]
  },
  {
   "cell_type": "code",
   "execution_count": 47,
   "id": "b122427d-4647-4e52-80cf-55b5ec824e3f",
   "metadata": {},
   "outputs": [
    {
     "name": "stdout",
     "output_type": "stream",
     "text": [
      "Convolution Matricielle:\n",
      " [[-1.0559856   0.06059347  0.16832924  1.7113345   1.8092008   0.62979704]\n",
      " [ 0.89008266  0.11357552 -0.6743766   0.13599592 -1.3802739   1.3624614 ]\n",
      " [-0.48875654 -0.80133885  0.25771928  0.08762383 -0.7002952  -1.2507904 ]\n",
      " [-0.46102482  0.39577952 -0.83835787 -2.2301846   0.993119    0.4116437 ]\n",
      " [ 0.87961817  0.90239227  1.960807    1.869839   -0.654708   -1.4559288 ]\n",
      " [-0.27319962  0.4546846  -0.67768115  0.23483384  0.84510857  0.54957926]]\n"
     ]
    }
   ],
   "source": [
    "print(f\"Convolution Matricielle:\\n {layer(img)[0,:,:,0]}\")"
   ]
  },
  {
   "cell_type": "code",
   "execution_count": 49,
   "id": "c2d88f0e-e6c8-4eb6-a2d6-41656adf0eca",
   "metadata": {},
   "outputs": [],
   "source": [
    "omega=layer.get_omega()"
   ]
  },
  {
   "cell_type": "code",
   "execution_count": 51,
   "id": "5532e362-12ff-4b0d-bb79-48ee0fe0e092",
   "metadata": {},
   "outputs": [
    {
     "name": "stdout",
     "output_type": "stream",
     "text": [
      "Convolution Classique:\n",
      " [[-1.0559856   0.06059343  0.16832925  1.7113345   1.8092008   0.62979704]\n",
      " [ 0.8900827   0.11357552 -0.6743766   0.13599592 -1.380274    1.3624614 ]\n",
      " [-0.48875648 -0.801339    0.25771928  0.08762378 -0.7002952  -1.2507902 ]\n",
      " [-0.46102485  0.39577955 -0.83835787 -2.2301848   0.9931191   0.41164368]\n",
      " [ 0.8796181   0.9023922   1.960807    1.8698388  -0.65470797 -1.4559289 ]\n",
      " [-0.27319962  0.45468462 -0.6776812   0.23483385  0.8451085   0.54957926]]\n"
     ]
    }
   ],
   "source": [
    "print(f\"Convolution Classique:\\n {convolution(img=img[0,:,:,0],kernel=omega[0])}\")"
   ]
  },
  {
   "cell_type": "code",
   "execution_count": 2,
   "id": "0841a8f4-6fab-4848-99db-f68030abc860",
   "metadata": {},
   "outputs": [],
   "source": [
    "## Seconde Approche"
   ]
  },
  {
   "cell_type": "code",
   "execution_count": 59,
   "id": "1349d790-72b3-4375-9bc4-919fdb7fc878",
   "metadata": {},
   "outputs": [],
   "source": [
    "N=6\n",
    "M=6\n",
    "F=3\n",
    "S=3\n",
    "filters=1\n",
    "index=indices_phi(filters=filters,N=N,M=M,F=F,S=S)"
   ]
  },
  {
   "cell_type": "code",
   "execution_count": 60,
   "id": "56c860bc-f495-4679-b246-161ac8b94b0d",
   "metadata": {},
   "outputs": [
    {
     "name": "stdout",
     "output_type": "stream",
     "text": [
      "noyau: [[1. 1. 1. 1. 1. 1. 1. 1. 1.]]\n"
     ]
    }
   ],
   "source": [
    "out_shape1:int=math.floor((N-F)/S)+1\n",
    "out_shape2:int=math.floor((M-F)/S)+1\n",
    "output_lenght:int=out_shape1*out_shape2\n",
    "noyau=tf.constant(np.ones((filters, F*F)),dtype=\"float32\")\n",
    "print(f\"noyau: {noyau}\")"
   ]
  },
  {
   "cell_type": "code",
   "execution_count": 61,
   "id": "624b1f07-dd84-4236-8e43-e5ddea0df786",
   "metadata": {},
   "outputs": [
    {
     "name": "stdout",
     "output_type": "stream",
     "text": [
      "Matrice de convolution M: [[[1. 1. 1. 0. 0. 0. 1. 1. 1. 0. 0. 0. 1. 1. 1. 0. 0. 0. 0. 0. 0. 0. 0.\n",
      "   0. 0. 0. 0. 0. 0. 0. 0. 0. 0. 0. 0. 0.]\n",
      "  [0. 0. 0. 1. 1. 1. 0. 0. 0. 1. 1. 1. 0. 0. 0. 1. 1. 1. 0. 0. 0. 0. 0.\n",
      "   0. 0. 0. 0. 0. 0. 0. 0. 0. 0. 0. 0. 0.]\n",
      "  [0. 0. 0. 0. 0. 0. 0. 0. 0. 0. 0. 0. 0. 0. 0. 0. 0. 0. 1. 1. 1. 0. 0.\n",
      "   0. 1. 1. 1. 0. 0. 0. 1. 1. 1. 0. 0. 0.]\n",
      "  [0. 0. 0. 0. 0. 0. 0. 0. 0. 0. 0. 0. 0. 0. 0. 0. 0. 0. 0. 0. 0. 1. 1.\n",
      "   1. 0. 0. 0. 1. 1. 1. 0. 0. 0. 1. 1. 1.]]]\n"
     ]
    }
   ],
   "source": [
    "kernel=tf.repeat(noyau, repeats=output_lenght, axis=0, name=None)\n",
    "kernel=tf.reshape(kernel,shape=(-1,filters*output_lenght*F*F))\n",
    "kernel=tf.sparse.SparseTensor(\n",
    "indices=index, values=kernel[0], dense_shape=(filters,output_lenght,N*M)\n",
    ")\n",
    "kernel=tf.sparse.to_dense(kernel)\n",
    "print(f\"Matrice de convolution M: {kernel}\")"
   ]
  },
  {
   "cell_type": "code",
   "execution_count": 62,
   "id": "9b7e497a-2dee-450b-a25d-181a2c926f1d",
   "metadata": {},
   "outputs": [
    {
     "name": "stdout",
     "output_type": "stream",
     "text": [
      "Image d'entrée: [[-0.22246216 -2.09627529 -0.36918137  0.1195452   0.32177229  0.65963848]\n",
      " [-0.46130394 -0.58163001 -0.11297976 -1.43243222  0.14071547 -1.50724429]\n",
      " [ 0.03488263  0.15866136  0.03607143 -0.99991941 -1.59708492  0.0809257 ]\n",
      " [-1.14374806  0.16731095 -0.47600588  0.63772628  0.00901906  1.50442779]\n",
      " [ 0.13341463  0.14854315 -0.40912516 -0.3888402   1.14209035  0.74235159]\n",
      " [-1.22165522 -1.83637194  0.10667412  0.35587417 -0.45208858  1.17346321]]\n"
     ]
    }
   ],
   "source": [
    "img=np.random.normal(0, 1,size=(N,M))\n",
    "print(f\"Image d'entrée: {img}\")"
   ]
  },
  {
   "cell_type": "code",
   "execution_count": 63,
   "id": "e118b711-6f7b-43fc-8e9e-4846aeddb760",
   "metadata": {},
   "outputs": [],
   "source": [
    "noyau_conv=np.ones((F,F),dtype=\"float32\")"
   ]
  },
  {
   "cell_type": "code",
   "execution_count": 64,
   "id": "cdc8ad07-502e-411a-830a-a304850c4c97",
   "metadata": {},
   "outputs": [
    {
     "name": "stdout",
     "output_type": "stream",
     "text": [
      "Convolution Classique:\n",
      " [[-3.3616714  -3.8438325  -4.4729533  -1.3325604  -1.6980051  -0.38511807]\n",
      " [-3.1681273  -3.614217   -5.27814    -3.8934934  -4.2140837  -1.9012773 ]\n",
      " [-1.8258271  -2.3787413  -2.6031973  -3.79489    -3.1638665  -1.3692412 ]\n",
      " [-0.5009354  -1.349995   -1.1255774  -2.0460684   1.1306963   1.8817296 ]\n",
      " [-3.7525065  -4.5309634  -1.6942145   0.52532417  4.724024    4.1192636 ]\n",
      " [-2.7760694  -3.0785205  -2.0232458   0.35458472  2.5728505   2.6058166 ]]\n"
     ]
    }
   ],
   "source": [
    "print(f\"Convolution Classique:\\n {convolution(img=img,kernel=noyau_conv)}\")"
   ]
  },
  {
   "cell_type": "code",
   "execution_count": 65,
   "id": "1bdcb031-dc83-4bed-8c40-247e07de837c",
   "metadata": {},
   "outputs": [
    {
     "name": "stdout",
     "output_type": "stream",
     "text": [
      "Convolution Matricielle:\n",
      " [[-3.6142173 -4.2140837]\n",
      " [-4.5309634  4.724024 ]]\n"
     ]
    }
   ],
   "source": [
    "inputs=tf.constant(img,dtype=\"float32\")\n",
    "inputs=tf.reshape(inputs, shape=(N*M,1))\n",
    "print(f\"Convolution Matricielle:\\n {tf.reshape(tf.matmul(a=kernel,b=inputs),shape=(out_shape1,out_shape2))}\")"
   ]
  },
  {
   "cell_type": "code",
   "execution_count": null,
   "id": "4a81d18b-622f-4d48-a15b-39ce5ce7392f",
   "metadata": {},
   "outputs": [],
   "source": []
  }
 ],
 "metadata": {
  "kernelspec": {
   "display_name": "Python 3 (ipykernel)",
   "language": "python",
   "name": "python3"
  },
  "language_info": {
   "codemirror_mode": {
    "name": "ipython",
    "version": 3
   },
   "file_extension": ".py",
   "mimetype": "text/x-python",
   "name": "python",
   "nbconvert_exporter": "python",
   "pygments_lexer": "ipython3",
   "version": "3.11.2"
  }
 },
 "nbformat": 4,
 "nbformat_minor": 5
}
