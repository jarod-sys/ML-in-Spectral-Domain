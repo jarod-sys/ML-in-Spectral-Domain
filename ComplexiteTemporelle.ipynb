{
 "cells": [
  {
   "cell_type": "code",
   "execution_count": 1,
   "id": "e99b8ff5-97e1-4ffe-925e-8f6aacb69c44",
   "metadata": {},
   "outputs": [],
   "source": [
    "%load_ext autoreload\n",
    "%autoreload 2\n",
    "\n",
    "import cProfile\n",
    "import numpy as np\n",
    "import tensorflow as tf\n",
    "\n",
    "from SpectralLayer import*\n",
    "from utilsSimpleConv2D import*\n",
    "from spectralconvolutions import *\n",
    "\n",
    "from tensorflow.keras.layers import Layer\n",
    "from typing import Tuple,List,Any,Dict"
   ]
  },
  {
   "cell_type": "code",
   "execution_count": 5,
   "id": "04b48544-d4d9-4ba5-a02e-f6d3ef339eb1",
   "metadata": {},
   "outputs": [],
   "source": [
    "def build_model(model=None,batch_size=None, epochs=20):\n",
    "    accuracy=list()\n",
    "    history = model.fit(x_train, y_train, batch_size=batch_size, epochs=epochs,verbose=1,validation_data=(x_test, y_test))\n",
    "    accuracy.append(model.evaluate(x_test,y_test,batch_size=32,verbose=\"auto\"))\n",
    "    return accuracy"
   ]
  },
  {
   "cell_type": "code",
   "execution_count": 2,
   "id": "e5bd7023-94ff-4aae-9a54-ce8610e3b846",
   "metadata": {},
   "outputs": [],
   "source": [
    "mnist = tf.keras.datasets.mnist\n",
    "(x_train, y_train), (x_test, y_test) = mnist.load_data()\n",
    "\n",
    "x_train, x_test=x_train.reshape(-1,28,28,1), x_test.reshape(-1,28,28,1)\n",
    "\n",
    "x_train, x_test = x_train / 255.0, x_test / 255.0\n",
    "\n",
    "flat_train = np.reshape(x_train, [x_train.shape[0], 28 * 28])\n",
    "flat_test = np.reshape(x_test, [x_test.shape[0], 28 * 28])"
   ]
  },
  {
   "cell_type": "code",
   "execution_count": 3,
   "id": "0db4bef6-064e-4a81-930a-fa4da7c4d127",
   "metadata": {},
   "outputs": [],
   "source": [
    "epochs = 20\n",
    "batch_size=200\n",
    "accuracy=list()\n",
    "\n",
    "spectral_config={\n",
    "    'is_base_trainable' : False,\n",
    "    'is_diag_start_trainable' : False,\n",
    "    'is_diag_end_trainable' : True,\n",
    "}"
   ]
  },
  {
   "cell_type": "code",
   "execution_count": 4,
   "id": "429ba05a-9879-4833-82cf-1abed3e10967",
   "metadata": {},
   "outputs": [
    {
     "name": "stdout",
     "output_type": "stream",
     "text": [
      "Model: \"sequential\"\n",
      "_________________________________________________________________\n",
      " Layer (type)                Output Shape              Param #   \n",
      "=================================================================\n",
      " padding_jacobiens (Padding  (None, 78, 78, 1)         0         \n",
      " Jacobiens)                                                      \n",
      "                                                                 \n",
      " spec_conv2d (SpecConv2D)    (None, 39, 39, 1)         6084      \n",
      "                                                                 \n",
      " max_pooling2d (MaxPooling2  (None, 19, 19, 1)         0         \n",
      " D)                                                              \n",
      "                                                                 \n",
      " flatten (Flatten)           (None, 361)               0         \n",
      "                                                                 \n",
      " module_wrapper (ModuleWrap  (None, 100)               100       \n",
      " per)                                                            \n",
      "                                                                 \n",
      " module_wrapper_1 (ModuleWr  (None, 10)                10        \n",
      " apper)                                                          \n",
      "                                                                 \n",
      "=================================================================\n",
      "Total params: 6194 (24.20 KB)\n",
      "Trainable params: 6194 (24.20 KB)\n",
      "Non-trainable params: 0 (0.00 Byte)\n",
      "_________________________________________________________________\n"
     ]
    }
   ],
   "source": [
    "model = tf.keras.Sequential()\n",
    "model.add(tf.keras.layers.Input(shape=(28,28,1)))\n",
    "\n",
    "model.add(PaddingJacobiens(kernel_size=3, strides=1, padding=\"VALID\"))\n",
    "model.add(SpecConv2D(filters=1, kernel_size=2,use_lambda_in=True,use_bias=False, activation=\"relu\"))\n",
    "model.add(tf.keras.layers.MaxPooling2D((2,2)))     \n",
    "\n",
    "model.add(tf.keras.layers.Flatten())     \n",
    "\n",
    "model.add(Spectral(100, **spectral_config,use_bias=False, activation=None))\n",
    "model.add(Spectral(10, **spectral_config,use_bias=False, activation='softmax'))\n",
    "\n",
    "opt = tf.keras.optimizers.Adam(learning_rate=0.005)\n",
    "model.compile(optimizer=opt, loss='sparse_categorical_crossentropy', metrics=['accuracy'])\n",
    "model.summary()"
   ]
  },
  {
   "cell_type": "code",
   "execution_count": 6,
   "id": "89ce589d-6a8a-446a-a9f9-a3e0aeaf30b6",
   "metadata": {},
   "outputs": [
    {
     "name": "stdout",
     "output_type": "stream",
     "text": [
      "Epoch 1/20\n",
      "300/300 [==============================] - 1716s 6s/step - loss: 1.8826 - accuracy: 0.5963 - val_loss: 0.6910 - val_accuracy: 0.7922\n",
      "Epoch 2/20\n",
      "300/300 [==============================] - 1235s 4s/step - loss: 0.6026 - accuracy: 0.8176 - val_loss: 0.5079 - val_accuracy: 0.8510\n",
      "Epoch 3/20\n",
      "300/300 [==============================] - 1223s 4s/step - loss: 0.4725 - accuracy: 0.8600 - val_loss: 0.4293 - val_accuracy: 0.8764\n",
      "Epoch 4/20\n",
      "300/300 [==============================] - 1120s 4s/step - loss: 0.4075 - accuracy: 0.8793 - val_loss: 0.3842 - val_accuracy: 0.8900\n",
      "Epoch 5/20\n",
      "300/300 [==============================] - 1120s 4s/step - loss: 0.3684 - accuracy: 0.8913 - val_loss: 0.3557 - val_accuracy: 0.8960\n",
      "Epoch 6/20\n",
      "300/300 [==============================] - 1110s 4s/step - loss: 0.3410 - accuracy: 0.8991 - val_loss: 0.3277 - val_accuracy: 0.9066\n",
      "Epoch 7/20\n",
      "300/300 [==============================] - 1114s 4s/step - loss: 0.3199 - accuracy: 0.9055 - val_loss: 0.3130 - val_accuracy: 0.9102\n",
      "Epoch 8/20\n",
      "300/300 [==============================] - 1110s 4s/step - loss: 0.3053 - accuracy: 0.9104 - val_loss: 0.3004 - val_accuracy: 0.9111\n",
      "Epoch 9/20\n",
      "300/300 [==============================] - 4515s 15s/step - loss: 0.2937 - accuracy: 0.9140 - val_loss: 0.2876 - val_accuracy: 0.9142\n",
      "Epoch 10/20\n",
      "300/300 [==============================] - 1171s 4s/step - loss: 0.2834 - accuracy: 0.9164 - val_loss: 0.2839 - val_accuracy: 0.9151\n",
      "Epoch 11/20\n",
      "300/300 [==============================] - 1469s 5s/step - loss: 0.2754 - accuracy: 0.9187 - val_loss: 0.2799 - val_accuracy: 0.9170\n",
      "Epoch 12/20\n",
      "300/300 [==============================] - 1319s 4s/step - loss: 0.2692 - accuracy: 0.9201 - val_loss: 0.2732 - val_accuracy: 0.9201\n",
      "Epoch 13/20\n",
      "300/300 [==============================] - 1306s 4s/step - loss: 0.2629 - accuracy: 0.9215 - val_loss: 0.2714 - val_accuracy: 0.9195\n",
      "Epoch 14/20\n",
      "300/300 [==============================] - 1291s 4s/step - loss: 0.2584 - accuracy: 0.9232 - val_loss: 0.2708 - val_accuracy: 0.9209\n",
      "Epoch 15/20\n",
      "300/300 [==============================] - 7092s 24s/step - loss: 0.2536 - accuracy: 0.9246 - val_loss: 0.2580 - val_accuracy: 0.9237\n",
      "Epoch 16/20\n",
      "300/300 [==============================] - 1240s 4s/step - loss: 0.2502 - accuracy: 0.9247 - val_loss: 0.2598 - val_accuracy: 0.9232\n",
      "Epoch 17/20\n",
      "300/300 [==============================] - 1206s 4s/step - loss: 0.2454 - accuracy: 0.9272 - val_loss: 0.2620 - val_accuracy: 0.9231\n",
      "Epoch 18/20\n",
      "300/300 [==============================] - 1296s 4s/step - loss: 0.2436 - accuracy: 0.9276 - val_loss: 0.2559 - val_accuracy: 0.9237\n",
      "Epoch 19/20\n",
      "300/300 [==============================] - 1242s 4s/step - loss: 0.2406 - accuracy: 0.9287 - val_loss: 0.2559 - val_accuracy: 0.9244\n",
      "Epoch 20/20\n",
      "300/300 [==============================] - 1201s 4s/step - loss: 0.2391 - accuracy: 0.9288 - val_loss: 0.2515 - val_accuracy: 0.9253\n",
      "313/313 [==============================] - 162s 517ms/step - loss: 0.2515 - accuracy: 0.9253\n"
     ]
    },
    {
     "data": {
      "text/plain": [
       "[[0.25151970982551575, 0.9253000020980835]]"
      ]
     },
     "execution_count": 6,
     "metadata": {},
     "output_type": "execute_result"
    }
   ],
   "source": [
    "build_model(model,batch_size=batch_size)"
   ]
  },
  {
   "cell_type": "code",
   "execution_count": null,
   "id": "021ec6d6-62b3-4a34-a7b8-dcc7d741c945",
   "metadata": {},
   "outputs": [],
   "source": []
  }
 ],
 "metadata": {
  "kernelspec": {
   "display_name": "Python 3 (ipykernel)",
   "language": "python",
   "name": "python3"
  },
  "language_info": {
   "codemirror_mode": {
    "name": "ipython",
    "version": 3
   },
   "file_extension": ".py",
   "mimetype": "text/x-python",
   "name": "python",
   "nbconvert_exporter": "python",
   "pygments_lexer": "ipython3",
   "version": "3.11.2"
  }
 },
 "nbformat": 4,
 "nbformat_minor": 5
}
