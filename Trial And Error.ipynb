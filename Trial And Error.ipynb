{
 "cells": [
  {
   "cell_type": "code",
   "execution_count": 1,
   "id": "e99b8ff5-97e1-4ffe-925e-8f6aacb69c44",
   "metadata": {},
   "outputs": [],
   "source": [
    "%load_ext autoreload\n",
    "%autoreload 2\n",
    "\n",
    "import cProfile\n",
    "import numpy as np\n",
    "import tensorflow as tf\n",
    "from matplotlib import pyplot as plt\n",
    "\n",
    "from SpectralLayer import*\n",
    "from utilsSimpleConv2D import*\n",
    "from spectralconvolutions import *\n",
    "\n",
    "from tensorflow.keras.layers import Layer, Dense\n",
    "from typing import Tuple,List,Any,Dict"
   ]
  },
  {
   "cell_type": "code",
   "execution_count": 15,
   "id": "d2a551d4-c8c9-478b-abcb-4b6cd985480a",
   "metadata": {},
   "outputs": [],
   "source": [
    "class ModelSpectral(object):\n",
    "    def __init__(self,\n",
    "                batch_size=200,\n",
    "                epochs=20,\n",
    "                verbose=1,\n",
    "                learning_rate=0.03,\n",
    "                name_data=\"mnist\",\n",
    "                number_of_convolutive_layers=1,\n",
    "                strides=1,\n",
    "                padding=\"VALID\",\n",
    "                kernel_size=3,\n",
    "                filters=1,\n",
    "                use_bias=False,\n",
    "                spectral_config={ 'is_base_trainable' : False,\n",
    "                                  'is_diag_start_trainable' : False,\n",
    "                                  'is_diag_end_trainable' : True,\n",
    "                                },\n",
    "               ):\n",
    "        \n",
    "        self.verbose=verbose\n",
    "        self.batch_size=batch_size\n",
    "        self.epochs=epochs\n",
    "        self.learning_rate=learning_rate\n",
    "        self.name_data=name_data\n",
    "        self.number_of_convolutive_layers=number_of_convolutive_layers\n",
    "        self.strides=strides\n",
    "        self.padding=padding\n",
    "        self.kernel_size=kernel_size\n",
    "        self.filters=filters\n",
    "        self.use_bias=use_bias\n",
    "        self.spectral_config=spectral_config\n",
    "        \n",
    "    def build_model(self,units=1000,*args):\n",
    "        self.model = tf.keras.Sequential()\n",
    "        self.model.add(tf.keras.layers.Input(shape=(28,28,1), dtype=tf.float32))\n",
    "        \n",
    "        self.model.add(PaddingJacobiens(kernel_size=self.kernel_size, strides=self.strides, padding=self.padding))\n",
    "        self.model.add(SpecConv2D(filters=self.filters, kernel_size=self.kernel_size,use_lambda_in=True,use_bias=self.use_bias, activation=\"relu\"))\n",
    "        \n",
    "        self.model.add(tf.keras.layers.MaxPooling2D((2,2)))   \n",
    "        \n",
    "        self.model.add(tf.keras.layers.Flatten())     \n",
    "        \n",
    "        self.model.add(Spectral(units, **self.spectral_config,use_bias=self.use_bias, activation=None))\n",
    "        self.model.add(Spectral(10, **self.spectral_config,use_bias=self.use_bias, activation='softmax'))\n",
    "        \n",
    "        opt = tf.keras.optimizers.Adam(learning_rate=self.learning_rate)\n",
    "        self.model.compile(optimizer=opt, loss='sparse_categorical_crossentropy', metrics=['accuracy'])\n",
    "        \n",
    "    def fit_model(self,*args):\n",
    "            \n",
    "        self.accuracy:List[Any]=list()\n",
    "        if self.name_data=='mnist':\n",
    "            mnist = tf.keras.datasets.mnist\n",
    "            (x_train, y_train), (x_test, y_test) =mnist.load_data()\n",
    "            x_train, x_test=x_train.reshape(-1,28,28,1), x_test.reshape(-1,28,28,1)\n",
    "            x_train, x_test = x_train / 255.0, x_test / 255.0\n",
    "        elif self.name_data=='fashion_mnist':\n",
    "            fashion_mnist=tf.keras.datasets.fashion_mnist \n",
    "            (x_train, y_train), (x_test, y_test) =fashion_mnist.load_data()\n",
    "            x_train, x_test=x_train.reshape(-1,28,28,1), x_test.reshape(-1,28,28,1)\n",
    "            x_train, x_test = x_train / 255.0, x_test / 255.0\n",
    "        else:\n",
    "            raise NotImplemented\n",
    "    \n",
    "        flat_train = np.reshape(x_train, [x_train.shape[0], 28 * 28])\n",
    "        flat_test = np.reshape(x_test, [x_test.shape[0], 28 * 28])\n",
    "        \n",
    "        self.model.fit(x_train, y_train, batch_size=self.batch_size, epochs=self.epochs,verbose=self.verbose,validation_data=(x_test, y_test))\n",
    "        self.accuracy.append(self.model.evaluate(x_test,y_test,batch_size=32,verbose=\"auto\"))\n",
    "            \n",
    "    \n",
    "\n",
    "            "
   ]
  },
  {
   "cell_type": "code",
   "execution_count": 16,
   "id": "46a8add2-dac1-424e-ad65-27c9abd8ef66",
   "metadata": {},
   "outputs": [],
   "source": [
    "model_pectral=ModelSpectral()"
   ]
  },
  {
   "cell_type": "code",
   "execution_count": 17,
   "id": "9537ddc8-e4f5-4723-b406-314511a89aa8",
   "metadata": {},
   "outputs": [],
   "source": [
    "model_pectral.build_model()"
   ]
  },
  {
   "cell_type": "code",
   "execution_count": null,
   "id": "4902f4d9-4af6-47e8-bd50-71288809ea05",
   "metadata": {},
   "outputs": [
    {
     "name": "stdout",
     "output_type": "stream",
     "text": [
      "Epoch 1/20\n",
      "300/300 [==============================] - 572s 2s/step - loss: 1.4979 - accuracy: 0.7993 - val_loss: 0.3326 - val_accuracy: 0.8993\n",
      "Epoch 2/20\n",
      "300/300 [==============================] - 795s 3s/step - loss: 0.2858 - accuracy: 0.9156 - val_loss: 0.2491 - val_accuracy: 0.9256\n",
      "Epoch 3/20\n",
      " 30/300 [==>...........................] - ETA: 8:18 - loss: 0.2559 - accuracy: 0.9218"
     ]
    }
   ],
   "source": [
    "model_pectral.fit_model()"
   ]
  },
  {
   "cell_type": "code",
   "execution_count": null,
   "id": "7ca6538d-c9ff-4eac-8760-3d9ce0a14af0",
   "metadata": {},
   "outputs": [],
   "source": []
  }
 ],
 "metadata": {
  "kernelspec": {
   "display_name": "Python 3 (ipykernel)",
   "language": "python",
   "name": "python3"
  },
  "language_info": {
   "codemirror_mode": {
    "name": "ipython",
    "version": 3
   },
   "file_extension": ".py",
   "mimetype": "text/x-python",
   "name": "python",
   "nbconvert_exporter": "python",
   "pygments_lexer": "ipython3",
   "version": "3.11.2"
  }
 },
 "nbformat": 4,
 "nbformat_minor": 5
}
