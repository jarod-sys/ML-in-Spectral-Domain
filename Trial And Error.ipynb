{
 "cells": [
  {
   "cell_type": "code",
   "execution_count": 1,
   "id": "e99b8ff5-97e1-4ffe-925e-8f6aacb69c44",
   "metadata": {},
   "outputs": [],
   "source": [
    "%load_ext autoreload\n",
    "%autoreload 2\n",
    "\n",
    "import cProfile\n",
    "import numpy as np\n",
    "import tensorflow as tf\n",
    "from matplotlib import pyplot as plt\n",
    "\n",
    "from SpectralLayer import*\n",
    "from utilsSimpleConv2D import*\n",
    "from spectralconvolutions import *\n",
    "from modelSpectralConv2D import *\n",
    "\n",
    "from tensorflow.keras.layers import Layer, Dense\n",
    "from typing import Tuple,List,Any,Dict\n"
   ]
  },
  {
   "cell_type": "code",
   "execution_count": 2,
   "id": "46a8add2-dac1-424e-ad65-27c9abd8ef66",
   "metadata": {},
   "outputs": [],
   "source": [
    "model_pectral=ModelSpectral()\n",
    "model_pectral.build_model()"
   ]
  },
  {
   "cell_type": "code",
   "execution_count": 3,
   "id": "c4a73cf8-41dc-461e-af7d-888bb1195843",
   "metadata": {},
   "outputs": [
    {
     "name": "stdout",
     "output_type": "stream",
     "text": [
      "Model: \"sequential\"\n",
      "_________________________________________________________________\n",
      " Layer (type)                Output Shape              Param #   \n",
      "=================================================================\n",
      " padding_jacobiens (Padding  (None, 78, 78, 1)         0         \n",
      " Jacobiens)                                                      \n",
      "                                                                 \n",
      " spec_conv2d (SpecConv2D)    (None, 26, 26, 1)         6084      \n",
      "                                                                 \n",
      " max_pooling2d (MaxPooling2  (None, 13, 13, 1)         0         \n",
      " D)                                                              \n",
      "                                                                 \n",
      " flatten (Flatten)           (None, 169)               0         \n",
      "                                                                 \n",
      " module_wrapper (ModuleWrap  (None, 1000)              1000      \n",
      " per)                                                            \n",
      "                                                                 \n",
      " module_wrapper_1 (ModuleWr  (None, 10)                10        \n",
      " apper)                                                          \n",
      "                                                                 \n",
      "=================================================================\n",
      "Total params: 7094 (27.71 KB)\n",
      "Trainable params: 7094 (27.71 KB)\n",
      "Non-trainable params: 0 (0.00 Byte)\n",
      "_________________________________________________________________\n"
     ]
    }
   ],
   "source": [
    "model_pectral.model.summary()"
   ]
  },
  {
   "cell_type": "code",
   "execution_count": null,
   "id": "fd0d3b6d-0b3c-41d5-a07a-9b12f41dece5",
   "metadata": {},
   "outputs": [],
   "source": [
    "model_pectral.fit_model()"
   ]
  },
  {
   "cell_type": "code",
   "execution_count": null,
   "id": "04dbc7ff-6669-458d-a284-cca3c1734588",
   "metadata": {},
   "outputs": [],
   "source": []
  }
 ],
 "metadata": {
  "kernelspec": {
   "display_name": "Python 3 (ipykernel)",
   "language": "python",
   "name": "python3"
  },
  "language_info": {
   "codemirror_mode": {
    "name": "ipython",
    "version": 3
   },
   "file_extension": ".py",
   "mimetype": "text/x-python",
   "name": "python",
   "nbconvert_exporter": "python",
   "pygments_lexer": "ipython3",
   "version": "3.11.2"
  }
 },
 "nbformat": 4,
 "nbformat_minor": 5
}
