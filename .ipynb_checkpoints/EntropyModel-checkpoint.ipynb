{
 "cells": [
  {
   "cell_type": "code",
   "execution_count": 70,
   "id": "bf5a0e30-5269-4316-ade3-9c4b329273f5",
   "metadata": {},
   "outputs": [
    {
     "name": "stdout",
     "output_type": "stream",
     "text": [
      "The autoreload extension is already loaded. To reload it, use:\n",
      "  %reload_ext autoreload\n"
     ]
    }
   ],
   "source": [
    "%load_ext autoreload\n",
    "%autoreload 2\n",
    "\n",
    "import math\n",
    "import random\n",
    "import numpy as np\n",
    "import pandas as pd\n",
    "import matplotlib.pyplot as plt\n",
    "from SpectralLayer import *\n",
    "\n",
    "from Jlayers import *\n",
    "import tensorflow as tf\n",
    "from pprint import pprint\n",
    "from typing import List, Dict, Tuple,Any\n",
    "from keras.layers import Layer,Dense\n",
    "from tensorflow.python.keras import activations\n",
    "\n"
   ]
  },
  {
   "cell_type": "code",
   "execution_count": 71,
   "id": "82623af9-ae0e-42ef-8986-feb7d67b964b",
   "metadata": {},
   "outputs": [],
   "source": [
    "class EntropyLayer(Layer):\n",
    "    def __init__(self, units=32, use_bias=False,flux_in=True,flux_out=False, activity=False,activation=None):\n",
    "        super(EntropyLayer, self).__init__()\n",
    "        \n",
    "        self.flux_in=flux_in\n",
    "        self.flux_out=flux_out\n",
    "        self.units = units\n",
    "        self.activity = activity\n",
    "        self.use_bias = use_bias\n",
    "        self.activation = activations.get(activation)\n",
    "        \n",
    "      \n",
    "    @property\n",
    "    def indice(self):\n",
    "        return self.indices\n",
    "    \n",
    "    @property\n",
    "    def get_mask(self):\n",
    "        return self.mask\n",
    "    def build_repartition(self,*args):\n",
    "        if self.flux_in and not self.flux_out:\n",
    "            self.residu=self.inputshape[-1]%self.units\n",
    "            self.parms=math.floor(self.inputshape[-1]/self.units)\n",
    "        elif not self.flux_in and  self.flux_out:\n",
    "            self.residu=self.units%self.inputshape[-1]\n",
    "            self.parms=math.floor(self.units/self.inputshape[-1])\n",
    "            \n",
    "        \n",
    "    def set_indices(self,*args):\n",
    "        self.build_repartition()\n",
    "        if self.flux_in and not self.flux_out:\n",
    "            tempon_value=[val for val in range(self.inputshape[-1])]\n",
    "            self.indices:List[Tuple]=list()\n",
    "            for j in range(self.units):\n",
    "                count:int=0\n",
    "                while count!=self.parms:\n",
    "                    choice=random.choice(tempon_value)\n",
    "                    self.indices.append((choice,j))\n",
    "                    tempon_value.remove(choice)\n",
    "                    count+=1\n",
    "                    \n",
    "            #residu\n",
    "            assert len(tempon_value)==self.residu\n",
    "            new_tempon_value=[val for val in range(self.units)]\n",
    "            for i in tempon_value:\n",
    "                choice=random.choice(new_tempon_value)\n",
    "                self.indices.append((i,choice))\n",
    "                new_tempon_value.remove(choice)\n",
    "                count+=1\n",
    "             \n",
    "        elif not self.flux_in and  self.flux_out:\n",
    "            tempon_value=[val for val in range(self.units)]\n",
    "            self.indices:List[Tuple]=list()\n",
    "            for i in range(self.inputshape[-1]):\n",
    "                count:int=0\n",
    "                while count!=self.parms:\n",
    "                    choice=random.choice(tempon_value)\n",
    "                    self.indices.append((i,choice))\n",
    "                    tempon_value.remove(choice)\n",
    "                    count+=1\n",
    "\n",
    "            #residu\n",
    "            assert len(tempon_value)==self.residu\n",
    "            new_tempon_value=[val for val in range(self.inputshape[-1])]\n",
    "            for j in tempon_value:\n",
    "                choice=random.choice(new_tempon_value)\n",
    "                self.indices.append((choice,j))\n",
    "                new_tempon_value.remove(choice)\n",
    "                count+=1\n",
    "        else:\n",
    "            raise NotImplemented\n",
    "    \n",
    "                        \n",
    "    def build(self, input_shape):\n",
    "        self.inputshape = tf.TensorShape(input_shape)\n",
    "        self.set_indices()\n",
    "\n",
    "        if self.flux_in and not self.flux_out:\n",
    "            self.w = self.add_weight(\n",
    "                name='w_in',\n",
    "                shape=(input_shape[-1],),\n",
    "                initializer=tf.keras.initializers.GlorotUniform(),\n",
    "                dtype=tf.float32,\n",
    "                trainable=self.flux_in)\n",
    "        elif not self.flux_in and  self.flux_out:\n",
    "            self.w = self.add_weight(\n",
    "                name='w_out',\n",
    "                shape=(self.units,),\n",
    "                initializer=tf.keras.initializers.GlorotUniform(),\n",
    "                dtype=tf.float32,\n",
    "                trainable=self.flux_out)\n",
    "        else:\n",
    "            raise NotImplemented\n",
    "            \n",
    "            \n",
    "        if self.activity:\n",
    "            self.A =tf.constant(np.random.uniform(low=-0.01,high=0.01,size=(input_shape[-1],self.units)),dtype=tf.float32)\n",
    "            values = [1 for i in range(len(self.indices))]\n",
    "            booleen = tf.scatter_nd(self.indices, values, (self.inputshape[-1], self.units)) > 0\n",
    "            self.mask = tf.cast(booleen, dtype=tf.float32)\n",
    "            self.one = tf.ones((self.inputshape[-1], self.units), dtype=tf.float32)\n",
    "        else:\n",
    "            pass\n",
    "            \n",
    "        if self.use_bias:\n",
    "            self.bias = self.add_weight(\n",
    "                name='bias',\n",
    "                shape=(self.units,),\n",
    "                dtype=tf.float32,\n",
    "                trainable=self.use_bias)\n",
    "        else:\n",
    "            self.bias = None\n",
    "        \n",
    "        self.build=True\n",
    "\n",
    "    def call(self, inputs):\n",
    "        \n",
    "        kernel = tf.sparse.SparseTensor(\n",
    "        indices=self.indices, values=self.w,\n",
    "        dense_shape=(self.inputshape[-1],self.units)\n",
    "        )\n",
    "        kernel=tf.sparse.reorder(kernel,name=\"kernel\")\n",
    "        \n",
    "        kernel = tf.sparse.to_dense(kernel)\n",
    "        if self.activity:\n",
    "            kernel = kernel+tf.multiply(self.A,self.one-self.mask)\n",
    "            \n",
    "        ouputs = tf.matmul(a=inputs, b=kernel)\n",
    "        \n",
    "        if self.use_bias:\n",
    "            ouputs = tf.nn.bias_add(ouputs, self.bias)\n",
    "            ouputs = tf.cast(ouputs, dtype=tf.float32)\n",
    "\n",
    "        if self.activation is not None:\n",
    "            ouputs = self.activation(ouputs)\n",
    "        else:\n",
    "            pass\n",
    "\n",
    "        return ouputs"
   ]
  },
  {
   "cell_type": "code",
   "execution_count": 72,
   "id": "e053244b-2e63-4268-a29c-249cdaa751a0",
   "metadata": {},
   "outputs": [
    {
     "data": {
      "text/plain": [
       "<KerasTensor: shape=(None, 12) dtype=float32 (created by layer 'entropy_layer_164')>"
      ]
     },
     "execution_count": 72,
     "metadata": {},
     "output_type": "execute_result"
    }
   ],
   "source": [
    "imputs=tf.keras.layers.Input(shape=(3 * 3), dtype='float32')\n",
    "layer =EntropyLayer(units=12, use_bias=False,flux_in=True,flux_out=False,activity=True ,activation=None)\n",
    "layer(imputs)"
   ]
  },
  {
   "cell_type": "code",
   "execution_count": 73,
   "id": "798c1f65-6e58-4a4a-8bda-b970b881d6aa",
   "metadata": {},
   "outputs": [],
   "source": [
    "## Data mnist"
   ]
  },
  {
   "cell_type": "code",
   "execution_count": 74,
   "id": "438ca71e-9e20-419f-a294-83d358d67706",
   "metadata": {},
   "outputs": [],
   "source": [
    "mnist = tf.keras.datasets.mnist\n",
    "(x_train, y_train), (x_test, y_test) = mnist.load_data()\n",
    "x_train, x_test = x_train / 255.0, x_test / 255.0\n",
    "\n",
    "flat_train = np.reshape(x_train, [x_train.shape[0], 28 * 28])\n",
    "flat_test = np.reshape(x_test, [x_test.shape[0], 28 * 28])"
   ]
  },
  {
   "cell_type": "code",
   "execution_count": 75,
   "id": "17f4cd09-fd07-4b07-ba5b-afa74814440f",
   "metadata": {},
   "outputs": [],
   "source": [
    "## View"
   ]
  },
  {
   "cell_type": "code",
   "execution_count": 76,
   "id": "bbc9bf0d-328e-48b1-9742-cb5c2f459291",
   "metadata": {},
   "outputs": [
    {
     "name": "stdout",
     "output_type": "stream",
     "text": [
      "Model: \"sequential_101\"\n",
      "_________________________________________________________________\n",
      " Layer (type)                Output Shape              Param #   \n",
      "=================================================================\n",
      " entropy_layer_165 (Entropy  (None, 1000)              784       \n",
      " Layer)                                                          \n",
      "                                                                 \n",
      " entropy_layer_166 (Entropy  (None, 10)                1000      \n",
      " Layer)                                                          \n",
      "                                                                 \n",
      "=================================================================\n",
      "Total params: 1784 (6.97 KB)\n",
      "Trainable params: 1784 (6.97 KB)\n",
      "Non-trainable params: 0 (0.00 Byte)\n",
      "_________________________________________________________________\n"
     ]
    }
   ],
   "source": [
    "model = tf.keras.Sequential()\n",
    "model.add(tf.keras.layers.Input(shape=(28 * 28), dtype='float32'))\n",
    "model.add(EntropyLayer(units=1000, use_bias=False,flux_in=True,flux_out=False,activity=True , activation=None))\n",
    "model.add(EntropyLayer(units=10, use_bias=False,flux_in=True,flux_out=False,activity=True ,activation='softmax'))\n",
    "opt = tf.keras.optimizers.Adam(learning_rate=0.01)\n",
    "model.compile(optimizer=opt, loss='sparse_categorical_crossentropy', metrics=['accuracy'])\n",
    "model.summary()"
   ]
  },
  {
   "cell_type": "code",
   "execution_count": 77,
   "id": "01999984-7789-4ea0-93ad-a06df812973f",
   "metadata": {},
   "outputs": [
    {
     "name": "stdout",
     "output_type": "stream",
     "text": [
      "Model: \"sequential_102\"\n",
      "_________________________________________________________________\n",
      " Layer (type)                Output Shape              Param #   \n",
      "=================================================================\n",
      " module_wrapper_28 (ModuleW  (None, 1000)              784       \n",
      " rapper)                                                         \n",
      "                                                                 \n",
      " module_wrapper_29 (ModuleW  (None, 10)                1000      \n",
      " rapper)                                                         \n",
      "                                                                 \n",
      "=================================================================\n",
      "Total params: 1784 (6.97 KB)\n",
      "Trainable params: 1784 (6.97 KB)\n",
      "Non-trainable params: 0 (0.00 Byte)\n",
      "_________________________________________________________________\n"
     ]
    }
   ],
   "source": [
    "spectral_config={\n",
    "    'is_base_trainable' : False,\n",
    "    'is_diag_start_trainable' : True,\n",
    "    'is_diag_end_trainable' : False,\n",
    "    'use_bias' : False\n",
    "}\n",
    "\n",
    "\n",
    "model3 = tf.keras.Sequential()\n",
    "model3.add(tf.keras.layers.Input(shape=(28 * 28), dtype='float32'))\n",
    "model3.add(Spectral(1000,  **spectral_config,activation=None))\n",
    "model3.add(Spectral(10,  **spectral_config,activation='softmax'))\n",
    "opt = tf.keras.optimizers.Adam(learning_rate=0.003)\n",
    "model3.compile(optimizer=opt, loss='sparse_categorical_crossentropy', metrics=['accuracy'])\n",
    "model3.summary()"
   ]
  },
  {
   "cell_type": "code",
   "execution_count": null,
   "id": "ff98249b-3296-4651-8c31-a5f2a577b440",
   "metadata": {},
   "outputs": [],
   "source": [
    "## EntropyModel1"
   ]
  },
  {
   "cell_type": "code",
   "execution_count": 42,
   "id": "16b9e6bb-6449-403c-9a50-0b53e6056ad9",
   "metadata": {},
   "outputs": [
    {
     "name": "stdout",
     "output_type": "stream",
     "text": [
      "313/313 [==============================] - 1s 2ms/step - loss: 1.8351 - accuracy: 0.3343\n",
      "313/313 [==============================] - 1s 2ms/step - loss: 1.0915 - accuracy: 0.5521\n",
      "313/313 [==============================] - 1s 2ms/step - loss: 0.5541 - accuracy: 0.8238\n",
      "313/313 [==============================] - 1s 2ms/step - loss: 0.5979 - accuracy: 0.8249\n",
      "313/313 [==============================] - 1s 2ms/step - loss: 0.5158 - accuracy: 0.8460\n",
      "313/313 [==============================] - 1s 2ms/step - loss: 0.5107 - accuracy: 0.8409\n",
      "313/313 [==============================] - 1s 4ms/step - loss: 0.3757 - accuracy: 0.8912\n",
      "313/313 [==============================] - 2s 6ms/step - loss: 0.3433 - accuracy: 0.9013\n",
      "313/313 [==============================] - 2s 7ms/step - loss: 0.3259 - accuracy: 0.9079\n",
      "313/313 [==============================] - 3s 9ms/step - loss: 0.3104 - accuracy: 0.9153\n",
      "313/313 [==============================] - 4s 11ms/step - loss: 0.3022 - accuracy: 0.9163\n"
     ]
    }
   ],
   "source": [
    "accuracy=list()\n",
    "epochs=20\n",
    "batch_size=200\n",
    "N=[2,5,10,20,80,100,500,800,1000,1500,2000]\n",
    "\n",
    "for i in range(len(N)):\n",
    "    model = tf.keras.Sequential()\n",
    "    model.add(tf.keras.layers.Input(shape=(28 * 28), dtype='float32'))\n",
    "    model.add(EntropyLayer(units=N[i], use_bias=False,flux_in=True,flux_out=False, activity=True ,activation=None))\n",
    "    model.add(EntropyLayer(units=10, use_bias=False,flux_in=True,flux_out=False,activity=True ,activation='softmax'))\n",
    "    opt = tf.keras.optimizers.Adam(learning_rate=0.003)\n",
    "    model.compile(optimizer=opt, loss='sparse_categorical_crossentropy', metrics=['accuracy'])\n",
    "    history = model.fit(flat_train, y_train, batch_size=batch_size, epochs=epochs,verbose=0)\n",
    "    accuracy.append(model.evaluate(flat_test,y_test,batch_size=32,verbose=\"auto\"))"
   ]
  },
  {
   "cell_type": "code",
   "execution_count": 43,
   "id": "9e5c7c35-b97a-451a-b934-cbd43a01dcde",
   "metadata": {},
   "outputs": [],
   "source": [
    "score=list()\n",
    "for i in range(len(N)):\n",
    "    score.append(accuracy[i][1])"
   ]
  },
  {
   "cell_type": "code",
   "execution_count": 44,
   "id": "76b7066b-ea5c-4fe2-ae67-4dc3e5cc1c0f",
   "metadata": {},
   "outputs": [
    {
     "data": {
      "image/png": "[encoded data removed]",
      "text/plain": [
       "<Figure size 1200x700 with 1 Axes>"
      ]
     },
     "metadata": {},
     "output_type": "display_data"
    }
   ],
   "source": [
    "fig=plt.figure(num=1,figsize=(12,7)) \n",
    "plt.plot(N,score, \"m--\")\n",
    "plt.xlabel(\"$N_{1}+N_{2}$\")\n",
    "plt.ylabel(\"accuracy\")\n",
    "plt.title(\"Entropy Model1\")\n",
    "plt.show()"
   ]
  },
  {
   "cell_type": "markdown",
   "id": "33f26fbc-c3bf-4163-96d3-2c1560265332",
   "metadata": {},
   "source": [
    "## Model constraint"
   ]
  },
  {
   "cell_type": "code",
   "execution_count": 14,
   "id": "c2d85cff-cbc1-4938-8920-92c0760d5af3",
   "metadata": {},
   "outputs": [],
   "source": [
    "## EntropyModel2"
   ]
  },
  {
   "cell_type": "code",
   "execution_count": 37,
   "id": "5008e16f-37f3-4159-b5a7-67cdc63adb8b",
   "metadata": {},
   "outputs": [
    {
     "name": "stdout",
     "output_type": "stream",
     "text": [
      "313/313 [==============================] - 1s 1ms/step - loss: 2.2305 - accuracy: 0.1498\n",
      "313/313 [==============================] - 1s 1ms/step - loss: 2.1125 - accuracy: 0.2526\n",
      "313/313 [==============================] - 1s 1ms/step - loss: 2.0469 - accuracy: 0.2455\n",
      "313/313 [==============================] - 1s 1ms/step - loss: 2.2072 - accuracy: 0.1828\n",
      "313/313 [==============================] - 1s 2ms/step - loss: 1.7433 - accuracy: 0.4352\n",
      "313/313 [==============================] - 1s 2ms/step - loss: 1.8016 - accuracy: 0.4153\n",
      "313/313 [==============================] - 1s 4ms/step - loss: 0.9258 - accuracy: 0.7357\n",
      "313/313 [==============================] - 2s 5ms/step - loss: 0.7462 - accuracy: 0.7783\n",
      "313/313 [==============================] - 2s 6ms/step - loss: 0.6982 - accuracy: 0.8041\n",
      "313/313 [==============================] - 3s 9ms/step - loss: 0.5140 - accuracy: 0.8527\n",
      "313/313 [==============================] - 4s 11ms/step - loss: 0.4520 - accuracy: 0.8730\n"
     ]
    }
   ],
   "source": [
    "accuracy1=list()\n",
    "epochs=20\n",
    "batch_size=200\n",
    "N=[2,5,10,20,80,100,500,800,1000,1500,2000]\n",
    "\n",
    "for i in range(len(N)):\n",
    "    model1 = tf.keras.Sequential()\n",
    "    model1.add(tf.keras.layers.Input(shape=(28 * 28), dtype='float32'))\n",
    "    model1.add(EntropyLayer(units=N[i], use_bias=False,flux_in=False,flux_out=True,  activity=True,activation=None))\n",
    "    model1.add(EntropyLayer(units=10, use_bias=False,flux_in=False,flux_out=True, activity=True,activation='softmax'))\n",
    "    opt = tf.keras.optimizers.Adam(learning_rate=0.003)\n",
    "    model1.compile(optimizer=opt, loss='sparse_categorical_crossentropy', metrics=['accuracy'])\n",
    "    history = model1.fit(flat_train, y_train, batch_size=batch_size, epochs=epochs,verbose=0)\n",
    "    accuracy1.append(model1.evaluate(flat_test,y_test,batch_size=32,verbose=\"auto\"))"
   ]
  },
  {
   "cell_type": "code",
   "execution_count": 38,
   "id": "9a1e3d53-1021-497c-948e-9772635b276c",
   "metadata": {},
   "outputs": [],
   "source": [
    "score1=list()\n",
    "for i in range(len(N)):\n",
    "    score1.append(accuracy1[i][1])"
   ]
  },
  {
   "cell_type": "code",
   "execution_count": 39,
   "id": "15ce4777-e6d6-44e6-aeab-c959d4d69942",
   "metadata": {},
   "outputs": [
    {
     "data": {
      "image/png": "[encoded data removed]",
      "text/plain": [
       "<Figure size 1200x700 with 1 Axes>"
      ]
     },
     "metadata": {},
     "output_type": "display_data"
    }
   ],
   "source": [
    "fig=plt.figure(num=1,figsize=(12,7)) \n",
    "plt.plot(N,score1, \"m--\")\n",
    "plt.xlabel(\"$N_{1}+N_{2}$\")\n",
    "plt.ylabel(\"accuracy\")\n",
    "plt.title(\"Entropy Model2\")\n",
    "plt.show()"
   ]
  },
  {
   "cell_type": "code",
   "execution_count": 47,
   "id": "47392241-c00a-4cbb-8d92-2ef603657924",
   "metadata": {},
   "outputs": [],
   "source": [
    "## Reference"
   ]
  },
  {
   "cell_type": "code",
   "execution_count": 50,
   "id": "765e84cb-9b05-4401-b046-8aaf742ed700",
   "metadata": {},
   "outputs": [
    {
     "name": "stdout",
     "output_type": "stream",
     "text": [
      "313/313 [==============================] - 1s 2ms/step - loss: 1.0454 - accuracy: 0.6219\n",
      "313/313 [==============================] - 1s 1ms/step - loss: 0.4014 - accuracy: 0.8915\n",
      "313/313 [==============================] - 1s 1ms/step - loss: 0.2877 - accuracy: 0.9227\n",
      "313/313 [==============================] - 1s 2ms/step - loss: 0.2870 - accuracy: 0.9265\n",
      "313/313 [==============================] - 1s 2ms/step - loss: 0.3052 - accuracy: 0.9182\n",
      "313/313 [==============================] - 1s 2ms/step - loss: 0.3068 - accuracy: 0.9182\n",
      "313/313 [==============================] - 1s 2ms/step - loss: 0.3057 - accuracy: 0.9181\n",
      "313/313 [==============================] - 1s 3ms/step - loss: 0.3059 - accuracy: 0.9189\n",
      "313/313 [==============================] - 1s 3ms/step - loss: 0.3278 - accuracy: 0.9154\n",
      "313/313 [==============================] - 1s 4ms/step - loss: 0.3227 - accuracy: 0.9179\n",
      "313/313 [==============================] - 1s 4ms/step - loss: 0.3496 - accuracy: 0.9092\n"
     ]
    }
   ],
   "source": [
    "accuracy2=list()\n",
    "epochs=20\n",
    "batch_size=200\n",
    "N=[2,5,10,20,80,100,500,800,1000,1500,2000]\n",
    "\n",
    "for i in range(len(N)):\n",
    "    model2 = tf.keras.Sequential()\n",
    "    model2.add(tf.keras.layers.Input(shape=(28 * 28), dtype='float32'))\n",
    "    model2.add(Dense(N[i],use_bias=False))\n",
    "    model2.add(Dense(10, use_bias=False, activation='softmax'))\n",
    "    opt = tf.keras.optimizers.Adam(learning_rate=0.003)\n",
    "    model2.compile(optimizer=opt, loss='sparse_categorical_crossentropy', metrics=['accuracy'])\n",
    "    history = model2.fit(flat_train, y_train, batch_size=200, epochs=epochs,verbose=0,validation_data=(flat_test, y_test))\n",
    "    accuracy2.append(model2.evaluate(flat_test,y_test,batch_size=32,verbose=\"auto\"))"
   ]
  },
  {
   "cell_type": "code",
   "execution_count": 51,
   "id": "cbdb9f80-3d9e-4f0b-886c-805c3fe4e254",
   "metadata": {},
   "outputs": [],
   "source": [
    "score2=list()\n",
    "for i in range(len(N)):\n",
    "    score2.append(accuracy2[i][1])"
   ]
  },
  {
   "cell_type": "code",
   "execution_count": 52,
   "id": "e8e4f5c4-2e31-4ffd-ab78-8c834f392d0e",
   "metadata": {},
   "outputs": [
    {
     "data": {
      "image/png": "[encoded data removed]",
      "text/plain": [
       "<Figure size 1200x700 with 1 Axes>"
      ]
     },
     "metadata": {},
     "output_type": "display_data"
    }
   ],
   "source": [
    "fig=plt.figure(num=1,figsize=(12,7)) \n",
    "plt.plot(N,score2, \"m--\")\n",
    "plt.xlabel(\"$784+N_{2}+10$\")\n",
    "plt.ylabel(\"accuracy\")\n",
    "plt.title(\"Reference\")\n",
    "plt.show()"
   ]
  },
  {
   "cell_type": "code",
   "execution_count": null,
   "id": "bc37f976-00a8-4ee7-aa7f-a15ec4ce7665",
   "metadata": {},
   "outputs": [],
   "source": [
    "## Spectral"
   ]
  },
  {
   "cell_type": "code",
   "execution_count": null,
   "id": "aa7fa276-3672-4a3f-808f-506bbfc4863e",
   "metadata": {},
   "outputs": [
    {
     "name": "stdout",
     "output_type": "stream",
     "text": [
      "313/313 [==============================] - 1s 2ms/step - loss: 1.6530 - accuracy: 0.3655\n",
      "313/313 [==============================] - 1s 2ms/step - loss: 1.0036 - accuracy: 0.6515\n",
      "313/313 [==============================] - 1s 2ms/step - loss: 0.7572 - accuracy: 0.7718\n",
      "313/313 [==============================] - 1s 2ms/step - loss: 0.5539 - accuracy: 0.8336\n",
      "313/313 [==============================] - 1s 2ms/step - loss: 0.4100 - accuracy: 0.8826\n"
     ]
    }
   ],
   "source": [
    "accuracy3=list()\n",
    "epochs=20\n",
    "batch_size=200\n",
    "N=[2,5,10,20,80,100,500,800,1000,1500,2000]\n",
    "spectral_config={\n",
    "    'is_base_trainable' : False,\n",
    "    'is_diag_start_trainable' : True,\n",
    "    'is_diag_end_trainable' : False,\n",
    "    'use_bias' : False\n",
    "}\n",
    "\n",
    "for i in range(len(N)):\n",
    "    model3 = tf.keras.Sequential()\n",
    "    model3.add(tf.keras.layers.Input(shape=(28 * 28), dtype='float32'))\n",
    "    model3.add(Spectral(N[i],  **spectral_config,activation=None))\n",
    "    model3.add(Spectral(10,  **spectral_config,activation='softmax'))\n",
    "    opt = tf.keras.optimizers.Adam(learning_rate=0.003)\n",
    "    model3.compile(optimizer=opt, loss='sparse_categorical_crossentropy', metrics=['accuracy'])\n",
    "    history = model3.fit(flat_train, y_train, batch_size=200, epochs=epochs,verbose=0)\n",
    "    accuracy3.append(model3.evaluate(flat_test,y_test,batch_size=32,verbose=\"auto\"))"
   ]
  },
  {
   "cell_type": "code",
   "execution_count": null,
   "id": "25ee6e12-fbdb-44a8-ab7a-2638da30d2ab",
   "metadata": {},
   "outputs": [],
   "source": [
    "score3=list()\n",
    "for i in range(len(N)):\n",
    "    score3.append(accuracy3[i][1])"
   ]
  },
  {
   "cell_type": "code",
   "execution_count": null,
   "id": "a7180181-0466-4aeb-80fb-1f6998c00631",
   "metadata": {},
   "outputs": [],
   "source": [
    "fig=plt.figure(num=1,figsize=(12,7)) \n",
    "plt.plot(N,score3, \"m--\")\n",
    "plt.xlabel(\"$784+N_{2}$\")\n",
    "plt.ylabel(\"accuracy\")\n",
    "plt.title(\"Spectral \")\n",
    "plt.show()"
   ]
  },
  {
   "cell_type": "code",
   "execution_count": null,
   "id": "8007e84a-a081-476d-ab6a-c8ca1a6541f3",
   "metadata": {},
   "outputs": [],
   "source": [
    "## compare"
   ]
  },
  {
   "cell_type": "code",
   "execution_count": null,
   "id": "245a9fe1-3bc0-4a4a-bffa-c6a245f81969",
   "metadata": {},
   "outputs": [],
   "source": [
    "fig=plt.figure(num=1,figsize=(12,7)) \n",
    "N=[2,5,10,20,80,100,500,800,1000,1500,2000]\n",
    "plt.plot(N,score, \"k--\")\n",
    "plt.plot(N,score1, \"m\")\n",
    "plt.plot(N,score2, \"b\")\n",
    "plt.plot(N,score3, \"r--\")\n",
    "\n",
    "plt.axis([20, 2000, 0, 1])\n",
    "\n",
    "plt.xlabel(\"$N$\")\n",
    "plt.ylabel(\"Precision\")\n",
    "\n",
    "\n",
    "plt.legend(['Flux in: Train 784+N',\n",
    "            \"Flux out: Train N+10\",\n",
    "           \"Refence: Tain 784*N+N*10\",\n",
    "           \"Spectral:Train 784+N \"],loc='lower right')\n",
    "\n",
    "plt.show()"
   ]
  },
  {
   "cell_type": "code",
   "execution_count": null,
   "id": "5e311e99-dad2-4c9c-badb-cf6ba959681d",
   "metadata": {},
   "outputs": [],
   "source": []
  }
 ],
 "metadata": {
  "kernelspec": {
   "display_name": "Python 3 (ipykernel)",
   "language": "python",
   "name": "python3"
  },
  "language_info": {
   "codemirror_mode": {
    "name": "ipython",
    "version": 3
   },
   "file_extension": ".py",
   "mimetype": "text/x-python",
   "name": "python",
   "nbconvert_exporter": "python",
   "pygments_lexer": "ipython3",
   "version": "3.11.2"
  }
 },
 "nbformat": 4,
 "nbformat_minor": 5
}
