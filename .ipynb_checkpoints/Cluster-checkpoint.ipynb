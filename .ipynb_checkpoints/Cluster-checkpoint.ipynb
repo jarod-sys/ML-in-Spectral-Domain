{
 "cells": [
  {
   "cell_type": "code",
   "execution_count": 29,
   "id": "c7ceb267-5928-4f91-a23f-ab05ec86cd03",
   "metadata": {},
   "outputs": [
    {
     "name": "stdout",
     "output_type": "stream",
     "text": [
      "The autoreload extension is already loaded. To reload it, use:\n",
      "  %reload_ext autoreload\n"
     ]
    }
   ],
   "source": [
    "%load_ext autoreload\n",
    "%autoreload 2\n",
    "\n",
    "import cProfile\n",
    "import numpy as np\n",
    "import tensorflow as tf\n",
    "from matplotlib import pyplot as plt\n",
    "\n",
    "from SpectralLayer import*\n",
    "from utilsSimpleConv2D import*\n",
    "from spectralconvolutions import *\n",
    "from modelSpectralConv2D import * \n",
    "\n",
    "from tensorflow.keras.layers import Layer, Dense\n",
    "from typing import Tuple,List,Any,Dict\n",
    "\n",
    "from sys import argv\n"
   ]
  },
  {
   "cell_type": "code",
   "execution_count": 28,
   "id": "28b6bb55-e1f9-4776-a998-015a56f6b350",
   "metadata": {},
   "outputs": [
    {
     "name": "stdout",
     "output_type": "stream",
     "text": [
      "Start...\n",
      "\n",
      "Beging fitting...\n",
      "\n",
      "Done.\n",
      "\n",
      "313/313 [==============================] - 4s 11ms/step - loss: 0.8507 - accuracy: 0.7460\n",
      "programme termine avec succes!\n"
     ]
    }
   ],
   "source": [
    "#Sur le cluster on a 10 jobs; de 1 à 10.\n",
    "num=0\n",
    "model_pectral = ModelSpectral()\n",
    "if 1<=num<=10:\n",
    "    iteration=0\n",
    "    while iteration<10:\n",
    "        model_pectral.build_model()\n",
    "        model_pectral.fit_model()\n",
    "        with open(f\"accuracy{num}.txt\", \"a\") as f:\n",
    "            f.write(str(model_pectral.accuracy[iteration][1]))\n",
    "            f.write(\"\\n\")\n",
    "        iteration+=1\n",
    "    print(\"programme termine avec succes!\")\n",
    "    #Sur le cluster entrez comme argument num>0.\n",
    "\n",
    "elif num==0:\n",
    "    iteration=0\n",
    "    print(\"Start...\\n\")\n",
    "    while iteration<1:\n",
    "        model_pectral.build_model()\n",
    "        model_pectral.fit_model()\n",
    "        with open(f\"accuracy{num}.txt\", \"a\") as f:\n",
    "            f.write(str(model_pectral.accuracy[iteration][1]))\n",
    "            f.write(\"\\n\")\n",
    "        iteration+=1\n",
    "    print(\"programme termine avec succes!\")\n",
    "    #En local entrez comme argument 0.\n",
    "else: \n",
    "    raise NotImplemented"
   ]
  },
  {
   "cell_type": "code",
   "execution_count": null,
   "id": "f2964853-e384-41e4-a495-700373f0f09d",
   "metadata": {},
   "outputs": [],
   "source": []
  }
 ],
 "metadata": {
  "kernelspec": {
   "display_name": "Python 3 (ipykernel)",
   "language": "python",
   "name": "python3"
  },
  "language_info": {
   "codemirror_mode": {
    "name": "ipython",
    "version": 3
   },
   "file_extension": ".py",
   "mimetype": "text/x-python",
   "name": "python",
   "nbconvert_exporter": "python",
   "pygments_lexer": "ipython3",
   "version": "3.11.2"
  }
 },
 "nbformat": 4,
 "nbformat_minor": 5
}
