{
 "cells": [
  {
   "cell_type": "code",
   "execution_count": 28,
   "id": "bb6f6d6e-dbe6-478d-970d-0df9a9535d41",
   "metadata": {},
   "outputs": [
    {
     "name": "stdout",
     "output_type": "stream",
     "text": [
      "The autoreload extension is already loaded. To reload it, use:\n",
      "  %reload_ext autoreload\n"
     ]
    }
   ],
   "source": [
    "%load_ext autoreload\n",
    "%autoreload 2\n",
    "\n",
    "import keras\n",
    "import math\n",
    "import numpy as np\n",
    "import seaborn as sb\n",
    "import tensorflow as tf\n",
    "from statistics import mean\n",
    "import matplotlib.pyplot as plt\n",
    "\n",
    "from Jlayers import SimpleLayer\n",
    "from utilsSimpleConv2D import*\n",
    "from SpectralLayer import Spectral\n",
    "from spectralconvolutions import *\n",
    "from tensorflow.keras.layers import Dense,Layer\n",
    "from typing import Tuple,List,Any,Dict\n",
    "from tensorflow.python.keras import activations, initializers, regularizers, constraints"
   ]
  },
  {
   "cell_type": "code",
   "execution_count": 29,
   "id": "51d87753-25ad-4a25-91b9-58674cb7267a",
   "metadata": {},
   "outputs": [],
   "source": [
    "## Data"
   ]
  },
  {
   "cell_type": "code",
   "execution_count": 30,
   "id": "68383101-7d12-4512-aa85-c4109888a30f",
   "metadata": {},
   "outputs": [],
   "source": [
    "mnist = tf.keras.datasets.mnist\n",
    "(x_train, y_train), (x_test, y_test) = mnist.load_data()\n",
    "\n",
    "\n",
    "x_train, x_test=x_train.reshape(-1,28,28,1), x_test.reshape(-1,28,28,1)\n",
    "\n",
    "x_train, x_test = x_train / 255.0, x_test / 255.0\n",
    "\n",
    "flat_train = np.reshape(x_train, [x_train.shape[0], 28 * 28])\n",
    "flat_test = np.reshape(x_test, [x_test.shape[0], 28 * 28])"
   ]
  },
  {
   "cell_type": "code",
   "execution_count": 31,
   "id": "be0115e8-3cf6-459a-83ad-e4188ce038bc",
   "metadata": {},
   "outputs": [],
   "source": [
    "## Parametres"
   ]
  },
  {
   "cell_type": "code",
   "execution_count": 32,
   "id": "3f7b475d-6ce1-4af3-87a3-dab1a746b04a",
   "metadata": {},
   "outputs": [],
   "source": [
    "spectral_config={\n",
    "    'is_base_trainable' : False,\n",
    "    'is_diag_start_trainable' : False,\n",
    "    'is_diag_end_trainable' : True,\n",
    "}\n"
   ]
  },
  {
   "cell_type": "code",
   "execution_count": 33,
   "id": "1b9f0bd6-5bfe-4014-b902-e7f41dacb7b7",
   "metadata": {},
   "outputs": [],
   "source": [
    "## Train only Lambda in"
   ]
  },
  {
   "cell_type": "code",
   "execution_count": 34,
   "id": "5357cc20-4068-4c1b-ac9a-08dc8641919f",
   "metadata": {},
   "outputs": [
    {
     "name": "stdout",
     "output_type": "stream",
     "text": [
      "Iteration 0: nombre de neurones: 20\n",
      "313/313 [==============================] - 4s 11ms/step - loss: 1.6138 - accuracy: 0.5467\n",
      "Iteration 1: nombre de neurones: 80\n",
      "313/313 [==============================] - 4s 12ms/step - loss: 1.2644 - accuracy: 0.6317\n",
      "Iteration 2: nombre de neurones: 100\n",
      "313/313 [==============================] - 5s 15ms/step - loss: 1.2042 - accuracy: 0.6486\n",
      "Iteration 3: nombre de neurones: 500\n",
      "313/313 [==============================] - 6s 18ms/step - loss: 0.9520 - accuracy: 0.7176\n",
      "Iteration 4: nombre de neurones: 800\n",
      "313/313 [==============================] - 6s 19ms/step - loss: 0.8801 - accuracy: 0.7488\n",
      "Iteration 5: nombre de neurones: 1000\n",
      "313/313 [==============================] - 2s 8ms/step - loss: 0.8355 - accuracy: 0.7656\n",
      "Iteration 6: nombre de neurones: 1500\n",
      "313/313 [==============================] - 4s 12ms/step - loss: 0.8106 - accuracy: 0.7636\n",
      "Iteration 7: nombre de neurones: 2000\n",
      "313/313 [==============================] - 5s 15ms/step - loss: 0.8081 - accuracy: 0.7628\n"
     ]
    }
   ],
   "source": [
    "accuracy=list()\n",
    "\n",
    "\n",
    "\n",
    "parameters_two={\"use_lambda_in\":True,\n",
    "            \"use_bias\":False,\n",
    "             \"padding\":'VALID',\n",
    "            \"activation\":'relu'\n",
    "           }\n",
    "\n",
    "N2=[20,80,100,500,800,1000,1500,2000]\n",
    "epochs = 10\n",
    "batch_size=512\n",
    "\n",
    "for i in range(len(N2)):\n",
    "    print(f\"Iteration {i}: nombre de neurones: {N2[i]}\")\n",
    "    model = tf.keras.Sequential()\n",
    "    \n",
    "    \n",
    "    model.add(tf.keras.layers.Input(shape=(28,28,1)))\n",
    "    \n",
    "    \n",
    "    model.add(SpectralConv2D_two(filters=1, kernel_size=3, strides=3, **parameters_two))\n",
    "    model.add(keras.layers.MaxPooling2D((2,2)))\n",
    "    model.add(keras.layers.Dropout(0.2))       \n",
    "    \n",
    "    model.add(keras.layers.Flatten())      \n",
    "    model.add(Spectral(N2[i], **spectral_config,use_bias=False, activation='relu'))\n",
    "    model.add(keras.layers.Dropout(0.5))\n",
    "    model.add(Spectral(120, **spectral_config,use_bias=False, activation='relu'))\n",
    "    model.add(Spectral(10, **spectral_config,use_bias=False, activation='softmax'))\n",
    "\n",
    "    opt = tf.keras.optimizers.Adam(learning_rate=0.03)\n",
    "    model.compile(optimizer=opt, loss='sparse_categorical_crossentropy', metrics=['accuracy'])\n",
    "    history = model.fit(x_train, y_train, batch_size=batch_size, epochs=epochs,verbose=0,validation_data=(x_test, y_test))\n",
    "    accuracy.append(model.evaluate(x_test,y_test,batch_size=32,verbose=\"auto\"))"
   ]
  },
  {
   "cell_type": "code",
   "execution_count": 35,
   "id": "86c61915-506f-444a-b18d-b1449598c923",
   "metadata": {},
   "outputs": [],
   "source": [
    "score=list()\n",
    "for i in range(len(N2)):\n",
    "    score.append(accuracy[i][1])"
   ]
  },
  {
   "cell_type": "code",
   "execution_count": 9,
   "id": "f7a69ea6-9e00-4549-baa1-91447f11607f",
   "metadata": {},
   "outputs": [],
   "source": [
    "## Dense"
   ]
  },
  {
   "cell_type": "code",
   "execution_count": 10,
   "id": "4acf5aac-2237-414c-8de1-0422d093fd51",
   "metadata": {},
   "outputs": [
    {
     "name": "stdout",
     "output_type": "stream",
     "text": [
      "Iteration 0: nombre de neurones: 20\n",
      "313/313 [==============================] - 1s 2ms/step - loss: 1.5091 - accuracy: 0.6689\n",
      "Iteration 1: nombre de neurones: 80\n",
      "313/313 [==============================] - 1s 2ms/step - loss: 1.0283 - accuracy: 0.7104\n",
      "Iteration 2: nombre de neurones: 100\n",
      "313/313 [==============================] - 1s 2ms/step - loss: 0.8985 - accuracy: 0.7306\n",
      "Iteration 3: nombre de neurones: 500\n",
      "313/313 [==============================] - 1s 2ms/step - loss: 0.8717 - accuracy: 0.7294\n",
      "Iteration 4: nombre de neurones: 800\n",
      "313/313 [==============================] - 1s 2ms/step - loss: 0.8363 - accuracy: 0.7618\n",
      "Iteration 5: nombre de neurones: 1000\n",
      "313/313 [==============================] - 1s 2ms/step - loss: 0.8715 - accuracy: 0.7320\n",
      "Iteration 6: nombre de neurones: 1500\n",
      "313/313 [==============================] - 1s 3ms/step - loss: 0.7863 - accuracy: 0.7793\n",
      "Iteration 7: nombre de neurones: 2000\n",
      "313/313 [==============================] - 1s 3ms/step - loss: 0.7325 - accuracy: 0.7735\n"
     ]
    }
   ],
   "source": [
    "\n",
    "accuracy2=list()\n",
    "N2=[20,80,100,500,800,1000,1500,2000]\n",
    "epochs = 10\n",
    "batch_size=512\n",
    "\n",
    "for i in range(len(N2)):\n",
    "    print(f\"Iteration {i}: nombre de neurones: {N2[i]}\")\n",
    "    model2 = tf.keras.Sequential()\n",
    "    model2.add(tf.keras.layers.Input(shape=(28,28,1)))\n",
    "    \n",
    "    \n",
    "    model2.add(keras.layers.Conv2D(1,(3,3), strides=3,use_bias=False,padding='VALID',activation=\"relu\"))\n",
    "    model2.add(keras.layers.MaxPooling2D((2,2)))\n",
    "    model2.add(keras.layers.Dropout(0.2))   \n",
    "    \n",
    "    model2.add(keras.layers.Flatten())  \n",
    "    \n",
    "    \n",
    "    model2.add(Dense(N2[i],use_bias=False,activation='relu'))\n",
    "    model2.add(keras.layers.Dropout(0.5))\n",
    "    model2.add(Dense(120,use_bias=False,activation='relu'))\n",
    "    model2.add(Dense(10, use_bias=False, activation='softmax'))\n",
    "    \n",
    "               \n",
    "    opt = tf.keras.optimizers.Adam(learning_rate=0.03)\n",
    "    model2.compile(optimizer=opt, loss='sparse_categorical_crossentropy', metrics=['accuracy'])\n",
    "    history = model2.fit(x_train, y_train, batch_size=batch_size, epochs=epochs,verbose=0,validation_data=(x_test, y_test))\n",
    "    accuracy2.append(model2.evaluate(x_test,y_test,batch_size=32,verbose=\"auto\"))"
   ]
  },
  {
   "cell_type": "code",
   "execution_count": 11,
   "id": "a08da34a-e8fb-48f5-b06f-5fe077976908",
   "metadata": {},
   "outputs": [],
   "source": [
    "score2=list()\n",
    "for i in range(len(N2)):\n",
    "    score2.append(accuracy2[i][1])"
   ]
  },
  {
   "cell_type": "code",
   "execution_count": 12,
   "id": "8e46c2c0-d364-46e2-a0c5-0614722373e7",
   "metadata": {},
   "outputs": [],
   "source": [
    "## Plot"
   ]
  },
  {
   "cell_type": "code",
   "execution_count": 36,
   "id": "23da4f33-e7b5-4f96-9857-5a1f4a0a019b",
   "metadata": {},
   "outputs": [
    {
     "data": {
      "text/plain": [
       "<matplotlib.legend.Legend at 0x2440974f510>"
      ]
     },
     "execution_count": 36,
     "metadata": {},
     "output_type": "execute_result"
    },
    {
     "data": {
      "image/png": "[encoded data removed]",
      "text/plain": [
       "<Figure size 1200x700 with 1 Axes>"
      ]
     },
     "metadata": {},
     "output_type": "display_data"
    }
   ],
   "source": [
    "fig=plt.figure(num=1,figsize=(12,7)) \n",
    "plt.plot(N2,score, \"b-\")\n",
    "plt.plot(N2,score2, \"m\")\n",
    "\n",
    "plt.axis([15, 2000, 0, 1])\n",
    "\n",
    "plt.xlabel(\"$N_{2}+N_{3}+N_{4}$\")\n",
    "plt.ylabel(\"accuracy\")\n",
    "plt.title(\"Deep Conv2D: Approche Matricielle 2\")\n",
    "\n",
    "\n",
    "plt.legend([\"SpectralConv2D: Train $\\Lambda^{in}$\",\"Reference: Dense CNN \"],loc='lower right')"
   ]
  },
  {
   "cell_type": "code",
   "execution_count": 14,
   "id": "056cfb1f-75f1-42a8-b729-0a3df1de8d0f",
   "metadata": {},
   "outputs": [],
   "source": [
    "## Seulement 3 pourcent des paramètres entraînés!"
   ]
  },
  {
   "cell_type": "code",
   "execution_count": 15,
   "id": "d4fead74-4d2a-4b5d-a55d-d494885af1b8",
   "metadata": {},
   "outputs": [],
   "source": [
    "## Distribution des poids"
   ]
  },
  {
   "cell_type": "code",
   "execution_count": 26,
   "id": "5a4c4170-3b60-4e0e-8199-0c27687169cc",
   "metadata": {},
   "outputs": [],
   "source": [
    "distributiob_weights=model.trainable_weights[0].numpy().tolist()[0]"
   ]
  },
  {
   "cell_type": "code",
   "execution_count": 27,
   "id": "cb46af4f-e2af-4bb3-8b77-db95aa669a13",
   "metadata": {},
   "outputs": [
    {
     "data": {
      "text/plain": [
       "<Axes: ylabel='Count'>"
      ]
     },
     "execution_count": 27,
     "metadata": {},
     "output_type": "execute_result"
    },
    {
     "data": {
      "image/png": "[encoded data removed]",
      "text/plain": [
       "<Figure size 640x480 with 1 Axes>"
      ]
     },
     "metadata": {},
     "output_type": "display_data"
    }
   ],
   "source": [
    "sb.histplot(distributiob_weights,kde=False,log_scale=False, legend=False)"
   ]
  },
  {
   "cell_type": "code",
   "execution_count": 18,
   "id": "cea20a1f-916f-4896-8938-d406d55370e8",
   "metadata": {},
   "outputs": [],
   "source": [
    "## Distribution Lambda in "
   ]
  },
  {
   "cell_type": "code",
   "execution_count": 37,
   "id": "21d17f64-15cb-44f0-9565-de8e556e1ed2",
   "metadata": {},
   "outputs": [
    {
     "name": "stdout",
     "output_type": "stream",
     "text": [
      "Model: \"sequential_35\"\n",
      "_________________________________________________________________\n",
      " Layer (type)                Output Shape              Param #   \n",
      "=================================================================\n",
      " spectral_conv2d_two_26 (Sp  (None, 9, 9, 1)           784       \n",
      " ectralConv2D_two)                                               \n",
      "                                                                 \n",
      " max_pooling2d_35 (MaxPooli  (None, 4, 4, 1)           0         \n",
      " ng2D)                                                           \n",
      "                                                                 \n",
      " flatten_35 (Flatten)        (None, 16)                0         \n",
      "                                                                 \n",
      " module_wrapper_75 (ModuleW  (None, 1000)              17016     \n",
      " rapper)                                                         \n",
      "                                                                 \n",
      " module_wrapper_76 (ModuleW  (None, 120)               121120    \n",
      " rapper)                                                         \n",
      "                                                                 \n",
      " module_wrapper_77 (ModuleW  (None, 10)                1330      \n",
      " rapper)                                                         \n",
      "                                                                 \n",
      "=================================================================\n",
      "Total params: 140250 (547.85 KB)\n",
      "Trainable params: 1914 (7.48 KB)\n",
      "Non-trainable params: 138336 (540.38 KB)\n",
      "_________________________________________________________________\n"
     ]
    }
   ],
   "source": [
    "model = tf.keras.Sequential()\n",
    "\n",
    "\n",
    "model.add(tf.keras.layers.Input(shape=(28,28,1)))\n",
    "\n",
    "\n",
    "model.add(SpectralConv2D_two(filters=1, kernel_size=3, strides=3, **parameters_two))\n",
    "model.add(keras.layers.MaxPooling2D((2,2)))\n",
    "\n",
    "\n",
    "model.add(keras.layers.Flatten())      \n",
    "model.add(Spectral(1000, **spectral_config,use_bias=False, activation='relu'))\n",
    "model.add(Spectral(120, **spectral_config,use_bias=False, activation='relu'))\n",
    "model.add(Spectral(10, **spectral_config,use_bias=False, activation='softmax'))\n",
    "\n",
    "opt = tf.keras.optimizers.Adam(learning_rate=0.03)\n",
    "model.compile(optimizer=opt, loss='sparse_categorical_crossentropy', metrics=['accuracy'])\n",
    "model.summary()"
   ]
  },
  {
   "cell_type": "code",
   "execution_count": 38,
   "id": "e358dd33-1457-4940-b231-7affbca2b857",
   "metadata": {},
   "outputs": [
    {
     "name": "stdout",
     "output_type": "stream",
     "text": [
      "Model: \"sequential_36\"\n",
      "_________________________________________________________________\n",
      " Layer (type)                Output Shape              Param #   \n",
      "=================================================================\n",
      " conv2d_9 (Conv2D)           (None, 9, 9, 1)           9         \n",
      "                                                                 \n",
      " max_pooling2d_36 (MaxPooli  (None, 4, 4, 1)           0         \n",
      " ng2D)                                                           \n",
      "                                                                 \n",
      " dropout_67 (Dropout)        (None, 4, 4, 1)           0         \n",
      "                                                                 \n",
      " flatten_36 (Flatten)        (None, 16)                0         \n",
      "                                                                 \n",
      " dense_27 (Dense)            (None, 1000)              16000     \n",
      "                                                                 \n",
      " dropout_68 (Dropout)        (None, 1000)              0         \n",
      "                                                                 \n",
      " dense_28 (Dense)            (None, 120)               120000    \n",
      "                                                                 \n",
      " dense_29 (Dense)            (None, 10)                1200      \n",
      "                                                                 \n",
      "=================================================================\n",
      "Total params: 137209 (535.97 KB)\n",
      "Trainable params: 137209 (535.97 KB)\n",
      "Non-trainable params: 0 (0.00 Byte)\n",
      "_________________________________________________________________\n"
     ]
    }
   ],
   "source": [
    "model2 = tf.keras.Sequential()\n",
    "model2.add(tf.keras.layers.Input(shape=(28,28,1)))\n",
    "\n",
    "\n",
    "model2.add(keras.layers.Conv2D(1,(3,3), strides=3,use_bias=False,padding='VALID',activation=\"relu\"))\n",
    "model2.add(keras.layers.MaxPooling2D((2,2)))\n",
    "model2.add(keras.layers.Dropout(0.2))   \n",
    "\n",
    "model2.add(keras.layers.Flatten())  \n",
    "\n",
    "\n",
    "model2.add(Dense(1000,use_bias=False,activation='relu'))\n",
    "model2.add(keras.layers.Dropout(0.5))\n",
    "model2.add(Dense(120,use_bias=False,activation='relu'))\n",
    "model2.add(Dense(10, use_bias=False, activation='softmax'))\n",
    "\n",
    "           \n",
    "opt = tf.keras.optimizers.Adam(learning_rate=0.03)\n",
    "model2.compile(optimizer=opt, loss='sparse_categorical_crossentropy', metrics=['accuracy'])\n",
    "model2.summary()"
   ]
  },
  {
   "cell_type": "code",
   "execution_count": null,
   "id": "16d937ce-d125-4c4e-92e5-f163a53e6aee",
   "metadata": {},
   "outputs": [],
   "source": []
  }
 ],
 "metadata": {
  "kernelspec": {
   "display_name": "Python 3 (ipykernel)",
   "language": "python",
   "name": "python3"
  },
  "language_info": {
   "codemirror_mode": {
    "name": "ipython",
    "version": 3
   },
   "file_extension": ".py",
   "mimetype": "text/x-python",
   "name": "python",
   "nbconvert_exporter": "python",
   "pygments_lexer": "ipython3",
   "version": "3.11.2"
  }
 },
 "nbformat": 4,
 "nbformat_minor": 5
}
