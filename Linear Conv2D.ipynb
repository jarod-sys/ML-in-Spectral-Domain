{
 "cells": [
  {
   "cell_type": "code",
   "execution_count": 52,
   "id": "e6e1c970-eed9-41ad-a0c2-a708ee62d76d",
   "metadata": {},
   "outputs": [
    {
     "name": "stdout",
     "output_type": "stream",
     "text": [
      "The autoreload extension is already loaded. To reload it, use:\n",
      "  %reload_ext autoreload\n"
     ]
    }
   ],
   "source": [
    "%load_ext autoreload\n",
    "%autoreload 2\n",
    "\n",
    "import keras\n",
    "import math\n",
    "import numpy as np\n",
    "import tensorflow as tf\n",
    "import matplotlib.pyplot as plt\n",
    "\n",
    "from Jlayers import SimpleLayer\n",
    "from utilsSimpleConv2D import*\n",
    "from SpectralLayer import Spectral\n",
    "from spectralconvolutions import *\n",
    "from tensorflow.keras.layers import Dense,Layer\n",
    "from typing import Tuple,List,Any,Dict\n",
    "from tensorflow.python.keras import activations, initializers, regularizers, constraints"
   ]
  },
  {
   "cell_type": "code",
   "execution_count": 18,
   "id": "992a2e35-933c-4900-add9-711666f3c848",
   "metadata": {},
   "outputs": [],
   "source": [
    "## Data"
   ]
  },
  {
   "cell_type": "code",
   "execution_count": 19,
   "id": "ddf419d1-f4f0-423a-8a65-56318d4c6f5e",
   "metadata": {},
   "outputs": [],
   "source": [
    "mnist = tf.keras.datasets.mnist\n",
    "(x_train, y_train), (x_test, y_test) = mnist.load_data()\n",
    "\n",
    "\n",
    "x_train, x_test=x_train.reshape(-1,28,28,1), x_test.reshape(-1,28,28,1)\n",
    "\n",
    "x_train, x_test = x_train / 255.0, x_test / 255.0\n",
    "\n",
    "flat_train = np.reshape(x_train, [x_train.shape[0], 28 * 28])\n",
    "flat_test = np.reshape(x_test, [x_test.shape[0], 28 * 28])"
   ]
  },
  {
   "cell_type": "code",
   "execution_count": 20,
   "id": "fb8f2878-4a72-43b1-8722-1e8e888d3076",
   "metadata": {},
   "outputs": [],
   "source": [
    "## parameters"
   ]
  },
  {
   "cell_type": "code",
   "execution_count": 21,
   "id": "0a43bb69-a8dc-4889-8429-3902d69c1612",
   "metadata": {},
   "outputs": [],
   "source": [
    "spectral_config={\n",
    "    'is_base_trainable' : False,\n",
    "    'is_diag_start_trainable' : False,\n",
    "    'is_diag_end_trainable' : True,\n",
    "}"
   ]
  },
  {
   "cell_type": "code",
   "execution_count": 22,
   "id": "4adb2168-ea9d-48d1-8d60-96af684116f3",
   "metadata": {},
   "outputs": [],
   "source": [
    "parameters_one={ \"use_lambda_out\":False,\n",
    "                 \"use_lambda_in\":False,\n",
    "                 \"trainable_SM_kernel\":True,\n",
    "                 \"use_bias\":False,\n",
    "                 \"kernel_initializer\":\"glorot_uniform\"}"
   ]
  },
  {
   "cell_type": "code",
   "execution_count": 23,
   "id": "57b704e1-de8c-4a53-a957-06f331de1267",
   "metadata": {},
   "outputs": [],
   "source": [
    "## Linear Conv2D: Compact Matrix Ac"
   ]
  },
  {
   "cell_type": "code",
   "execution_count": 54,
   "id": "0617b7f9-0271-4114-a128-d10b74cc58a0",
   "metadata": {},
   "outputs": [
    {
     "name": "stdout",
     "output_type": "stream",
     "text": [
      "Model: \"sequential_19\"\n",
      "_________________________________________________________________\n",
      " Layer (type)                Output Shape              Param #   \n",
      "=================================================================\n",
      " spectral_conv2d_one_38 (Sp  (None, 24, 24, 1)         25        \n",
      " ectralConv2D_one)                                               \n",
      "                                                                 \n",
      " max_pooling2d_38 (MaxPooli  (None, 12, 12, 1)         0         \n",
      " ng2D)                                                           \n",
      "                                                                 \n",
      " spectral_conv2d_one_39 (Sp  (None, 10, 10, 1)         9         \n",
      " ectralConv2D_one)                                               \n",
      "                                                                 \n",
      " max_pooling2d_39 (MaxPooli  (None, 5, 5, 1)           0         \n",
      " ng2D)                                                           \n",
      "                                                                 \n",
      " flatten_19 (Flatten)        (None, 25)                0         \n",
      "                                                                 \n",
      " module_wrapper_29 (ModuleW  (None, 1000)              27025     \n",
      " rapper)                                                         \n",
      "                                                                 \n",
      " module_wrapper_30 (ModuleW  (None, 10)                11010     \n",
      " rapper)                                                         \n",
      "                                                                 \n",
      "=================================================================\n",
      "Total params: 38069 (148.71 KB)\n",
      "Trainable params: 2044 (7.98 KB)\n",
      "Non-trainable params: 36025 (140.72 KB)\n",
      "_________________________________________________________________\n"
     ]
    }
   ],
   "source": [
    "model1 = tf.keras.Sequential()\n",
    "model1.add(tf.keras.layers.Input(shape=(28,28,1)))\n",
    "\n",
    "\n",
    "model1.add(SpectralConv2D_one(filters=1, kernel_size=5, strides=1, padding=\"VALID\", activation=None,**parameters_one))\n",
    "model1.add(keras.layers.MaxPooling2D((2,2)))\n",
    "      \n",
    "\n",
    "model1.add(SpectralConv2D_one(filters=1, kernel_size=3, strides=1, padding=\"VALID\", activation=None,**parameters_one))\n",
    "model1.add(keras.layers.MaxPooling2D((2,2)))\n",
    "\n",
    "                   \n",
    "model1.add(keras.layers.Flatten())     \n",
    "\n",
    "model1.add(Spectral(1000, **spectral_config,use_bias=True, activation='relu'))\n",
    "model1.add(Spectral(10, **spectral_config,use_bias=False, activation='softmax'))\n",
    "           \n",
    "opt = tf.keras.optimizers.Adam(learning_rate=0.03)\n",
    "model1.compile(optimizer=opt, loss='sparse_categorical_crossentropy', metrics=['accuracy'])\n",
    "model1.summary()"
   ]
  },
  {
   "cell_type": "code",
   "execution_count": 55,
   "id": "38da8ad8-af26-44cc-8081-a944f6e44dad",
   "metadata": {},
   "outputs": [
    {
     "name": "stdout",
     "output_type": "stream",
     "text": [
      "Epoch 1/10\n",
      "118/118 [==============================] - 53s 440ms/step - loss: 0.8271 - accuracy: 0.7388\n",
      "Epoch 2/10\n",
      "118/118 [==============================] - 61s 514ms/step - loss: 0.3523 - accuracy: 0.8931\n",
      "Epoch 3/10\n",
      "118/118 [==============================] - 84s 715ms/step - loss: 0.3256 - accuracy: 0.9017\n",
      "Epoch 4/10\n",
      "118/118 [==============================] - 87s 740ms/step - loss: 0.3040 - accuracy: 0.9075\n",
      "Epoch 5/10\n",
      "118/118 [==============================] - 84s 712ms/step - loss: 0.2933 - accuracy: 0.9108\n",
      "Epoch 6/10\n",
      "118/118 [==============================] - 87s 737ms/step - loss: 0.2825 - accuracy: 0.9147\n",
      "Epoch 7/10\n",
      "118/118 [==============================] - 88s 743ms/step - loss: 0.2775 - accuracy: 0.9153\n",
      "Epoch 8/10\n",
      "118/118 [==============================] - 92s 777ms/step - loss: 0.2702 - accuracy: 0.9183\n",
      "Epoch 9/10\n",
      "118/118 [==============================] - 89s 753ms/step - loss: 0.2710 - accuracy: 0.9176\n",
      "Epoch 10/10\n",
      "118/118 [==============================] - 92s 783ms/step - loss: 0.2667 - accuracy: 0.9181\n",
      "20/20 [==============================] - 3s 71ms/step - loss: 0.2568 - accuracy: 0.9238\n"
     ]
    }
   ],
   "source": [
    "accuracy=list()\n",
    "epochs = 10\n",
    "batch_size=512\n",
    "\n",
    "history1 = model1.fit(x_train, y_train, batch_size=batch_size, epochs=epochs,verbose=1)\n",
    "accuracy.append(model1.evaluate(x_test,y_test,batch_size=batch_size,verbose=\"auto\"))"
   ]
  },
  {
   "cell_type": "code",
   "execution_count": null,
   "id": "8427da9d-a5bf-4e4b-b727-ea37aabc9871",
   "metadata": {},
   "outputs": [],
   "source": []
  }
 ],
 "metadata": {
  "kernelspec": {
   "display_name": "Python 3 (ipykernel)",
   "language": "python",
   "name": "python3"
  },
  "language_info": {
   "codemirror_mode": {
    "name": "ipython",
    "version": 3
   },
   "file_extension": ".py",
   "mimetype": "text/x-python",
   "name": "python",
   "nbconvert_exporter": "python",
   "pygments_lexer": "ipython3",
   "version": "3.11.2"
  }
 },
 "nbformat": 4,
 "nbformat_minor": 5
}
