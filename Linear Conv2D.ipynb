{
 "cells": [
  {
   "cell_type": "code",
   "execution_count": 1,
   "id": "e6e1c970-eed9-41ad-a0c2-a708ee62d76d",
   "metadata": {},
   "outputs": [],
   "source": [
    "%load_ext autoreload\n",
    "%autoreload 2\n",
    "\n",
    "import keras\n",
    "import math\n",
    "import numpy as np\n",
    "import tensorflow as tf\n",
    "import matplotlib.pyplot as plt\n",
    "\n",
    "from Jlayers import SimpleLayer\n",
    "from utilsSimpleConv2D import*\n",
    "from SpectralLayer import Spectral\n",
    "from spectralconvolutions import *\n",
    "from tensorflow.keras.layers import Dense,Layer\n",
    "from typing import Tuple,List,Any,Dict\n",
    "from tensorflow.python.keras import activations, initializers, regularizers, constraints"
   ]
  },
  {
   "cell_type": "code",
   "execution_count": 9,
   "id": "992a2e35-933c-4900-add9-711666f3c848",
   "metadata": {},
   "outputs": [],
   "source": [
    "## Data"
   ]
  },
  {
   "cell_type": "code",
   "execution_count": 2,
   "id": "ddf419d1-f4f0-423a-8a65-56318d4c6f5e",
   "metadata": {},
   "outputs": [],
   "source": [
    "mnist = tf.keras.datasets.mnist\n",
    "(x_train, y_train), (x_test, y_test) = mnist.load_data()\n",
    "\n",
    "\n",
    "x_train, x_test=x_train.reshape(-1,28,28,1), x_test.reshape(-1,28,28,1)\n",
    "\n",
    "x_train, x_test = x_train / 255.0, x_test / 255.0\n",
    "\n",
    "flat_train = np.reshape(x_train, [x_train.shape[0], 28 * 28])\n",
    "flat_test = np.reshape(x_test, [x_test.shape[0], 28 * 28])"
   ]
  },
  {
   "cell_type": "code",
   "execution_count": 10,
   "id": "fb8f2878-4a72-43b1-8722-1e8e888d3076",
   "metadata": {},
   "outputs": [],
   "source": [
    "## parameters"
   ]
  },
  {
   "cell_type": "code",
   "execution_count": 3,
   "id": "0a43bb69-a8dc-4889-8429-3902d69c1612",
   "metadata": {},
   "outputs": [],
   "source": [
    "spectral_config={\n",
    "    'is_base_trainable' : False,\n",
    "    'is_diag_start_trainable' : False,\n",
    "    'is_diag_end_trainable' : True,\n",
    "}"
   ]
  },
  {
   "cell_type": "code",
   "execution_count": 5,
   "id": "4adb2168-ea9d-48d1-8d60-96af684116f3",
   "metadata": {},
   "outputs": [],
   "source": [
    "parameters_one={ \"use_lambda_out\":False,\n",
    "                 \"use_lambda_in\":False,\n",
    "                 \"trainable_SM_kernel\":True,\n",
    "                 \"use_bias\":False,\n",
    "                 \"kernel_initializer\":\"glorot_uniform\"}"
   ]
  },
  {
   "cell_type": "code",
   "execution_count": 12,
   "id": "57b704e1-de8c-4a53-a957-06f331de1267",
   "metadata": {},
   "outputs": [],
   "source": [
    "## Linear Conv2D: Compact Matrix Ac"
   ]
  },
  {
   "cell_type": "code",
   "execution_count": 8,
   "id": "0617b7f9-0271-4114-a128-d10b74cc58a0",
   "metadata": {},
   "outputs": [
    {
     "name": "stdout",
     "output_type": "stream",
     "text": [
      "Model: \"sequential_2\"\n",
      "_________________________________________________________________\n",
      " Layer (type)                Output Shape              Param #   \n",
      "=================================================================\n",
      " spectral_conv2d_one_2 (Spe  (None, 24, 24, 1)         1385      \n",
      " ctralConv2D_one)                                                \n",
      "                                                                 \n",
      " max_pooling2d_2 (MaxPoolin  (None, 12, 12, 1)         0         \n",
      " g2D)                                                            \n",
      "                                                                 \n",
      " dropout_3 (Dropout)         (None, 12, 12, 1)         0         \n",
      "                                                                 \n",
      " spectral_conv2d_one_3 (Spe  (None, 10, 10, 1)         253       \n",
      " ctralConv2D_one)                                                \n",
      "                                                                 \n",
      " max_pooling2d_3 (MaxPoolin  (None, 5, 5, 1)           0         \n",
      " g2D)                                                            \n",
      "                                                                 \n",
      " dropout_4 (Dropout)         (None, 5, 5, 1)           0         \n",
      "                                                                 \n",
      " flatten_2 (Flatten)         (None, 25)                0         \n",
      "                                                                 \n",
      " module_wrapper_2 (ModuleWr  (None, 1000)              27025     \n",
      " apper)                                                          \n",
      "                                                                 \n",
      " dropout_5 (Dropout)         (None, 1000)              0         \n",
      "                                                                 \n",
      " module_wrapper_3 (ModuleWr  (None, 10)                11010     \n",
      " apper)                                                          \n",
      "                                                                 \n",
      "=================================================================\n",
      "Total params: 39673 (154.97 KB)\n",
      "Trainable params: 2044 (7.98 KB)\n",
      "Non-trainable params: 37629 (146.99 KB)\n",
      "_________________________________________________________________\n"
     ]
    }
   ],
   "source": [
    "model1 = tf.keras.Sequential()\n",
    "model1.add(tf.keras.layers.Input(shape=(28,28,1)))\n",
    "\n",
    "\n",
    "model1.add(SpectralConv2D_one(filters=1, kernel_size=5, strides=1, padding=\"VALID\", activation=None,**parameters_one))\n",
    "model1.add(keras.layers.MaxPooling2D((2,2)))\n",
    "model1.add(keras.layers.Dropout(0.2))       \n",
    "\n",
    "model1.add(SpectralConv2D_one(filters=1, kernel_size=3, strides=1, padding=\"VALID\", activation=None,**parameters_one))\n",
    "model1.add(keras.layers.MaxPooling2D((2,2)))\n",
    "model1.add(keras.layers.Dropout(0.2))  \n",
    "                   \n",
    "model1.add(keras.layers.Flatten())     \n",
    "\n",
    "model1.add(Spectral(1000, **spectral_config,use_bias=True, activation='relu'))\n",
    "model1.add(keras.layers.Dropout(0.5))\n",
    "model1.add(Spectral(10, **spectral_config,use_bias=False, activation='softmax'))\n",
    "           \n",
    "opt = tf.keras.optimizers.Adam(learning_rate=0.03)\n",
    "model1.compile(optimizer=opt, loss='sparse_categorical_crossentropy', metrics=['accuracy'])\n",
    "model1.summary()"
   ]
  },
  {
   "cell_type": "code",
   "execution_count": null,
   "id": "38da8ad8-af26-44cc-8081-a944f6e44dad",
   "metadata": {},
   "outputs": [],
   "source": []
  }
 ],
 "metadata": {
  "kernelspec": {
   "display_name": "Python 3 (ipykernel)",
   "language": "python",
   "name": "python3"
  },
  "language_info": {
   "codemirror_mode": {
    "name": "ipython",
    "version": 3
   },
   "file_extension": ".py",
   "mimetype": "text/x-python",
   "name": "python",
   "nbconvert_exporter": "python",
   "pygments_lexer": "ipython3",
   "version": "3.11.2"
  }
 },
 "nbformat": 4,
 "nbformat_minor": 5
}
