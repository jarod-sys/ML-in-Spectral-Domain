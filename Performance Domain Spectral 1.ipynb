{
 "cells": [
  {
   "cell_type": "code",
   "execution_count": 1,
   "id": "8a1d8024-6f6b-42ce-961c-3ce498abd686",
   "metadata": {},
   "outputs": [],
   "source": [
    "%load_ext autoreload\n",
    "%autoreload 2\n",
    "\n",
    "import keras\n",
    "import math\n",
    "import numpy as np\n",
    "import tensorflow as tf\n",
    "import matplotlib.pyplot as plt\n",
    "\n",
    "from Jlayers import SimpleLayer\n",
    "from utilsSimpleConv2D import*\n",
    "from SpectralLayer import Spectral\n",
    "from spectralconvolutions import *\n",
    "from tensorflow.keras.layers import Dense,Layer\n",
    "from typing import Tuple,List,Any,Dict\n",
    "from tensorflow.python.keras import activations, initializers, regularizers, constraints"
   ]
  },
  {
   "cell_type": "code",
   "execution_count": 2,
   "id": "d07a45d2-8acf-4926-890f-bc9c22455765",
   "metadata": {},
   "outputs": [],
   "source": [
    "## Data"
   ]
  },
  {
   "cell_type": "code",
   "execution_count": 3,
   "id": "07fdbaf8-eb76-4b7b-bf8e-2b889c6bee7e",
   "metadata": {},
   "outputs": [],
   "source": [
    "mnist = tf.keras.datasets.mnist\n",
    "(x_train, y_train), (x_test, y_test) = mnist.load_data()\n",
    "\n",
    "\n",
    "x_train, x_test=x_train.reshape(-1,28,28,1), x_test.reshape(-1,28,28,1)\n",
    "\n",
    "x_train, x_test = x_train / 255.0, x_test / 255.0\n",
    "\n",
    "flat_train = np.reshape(x_train, [x_train.shape[0], 28 * 28])\n",
    "flat_test = np.reshape(x_test, [x_test.shape[0], 28 * 28])"
   ]
  },
  {
   "cell_type": "code",
   "execution_count": 4,
   "id": "a5e6c167-b24b-444a-8f4f-651af846f408",
   "metadata": {},
   "outputs": [],
   "source": [
    "## Parametres"
   ]
  },
  {
   "cell_type": "code",
   "execution_count": 5,
   "id": "b3f42ff4-e38d-4d06-826c-b9e257ead663",
   "metadata": {},
   "outputs": [],
   "source": [
    "spectral_config={\n",
    "    'is_base_trainable' : False,\n",
    "    'is_diag_start_trainable' : False,\n",
    "    'is_diag_end_trainable' : True,\n",
    "}"
   ]
  },
  {
   "cell_type": "code",
   "execution_count": 6,
   "id": "628c5ee2-19be-4c3e-b86b-f5e2521d11b8",
   "metadata": {},
   "outputs": [],
   "source": [
    "## Train phi"
   ]
  },
  {
   "cell_type": "code",
   "execution_count": 7,
   "id": "c85c7e51-2069-41ed-86a6-53b816bf1c03",
   "metadata": {},
   "outputs": [
    {
     "name": "stdout",
     "output_type": "stream",
     "text": [
      "Iteration 0: nombre de neurones: 20\n",
      "313/313 [==============================] - 6s 17ms/step - loss: 1.9730 - accuracy: 0.3485\n",
      "Iteration 1: nombre de neurones: 80\n",
      "313/313 [==============================] - 5s 17ms/step - loss: 1.6814 - accuracy: 0.4813\n",
      "Iteration 2: nombre de neurones: 100\n",
      "313/313 [==============================] - 5s 17ms/step - loss: 1.6435 - accuracy: 0.5439\n",
      "Iteration 3: nombre de neurones: 500\n",
      "313/313 [==============================] - 5s 16ms/step - loss: 0.7127 - accuracy: 0.8316\n",
      "Iteration 4: nombre de neurones: 800\n",
      "313/313 [==============================] - 5s 14ms/step - loss: 0.6072 - accuracy: 0.8511\n",
      "Iteration 5: nombre de neurones: 1000\n",
      "313/313 [==============================] - 5s 14ms/step - loss: 0.5336 - accuracy: 0.8608\n",
      "Iteration 6: nombre de neurones: 1500\n",
      "313/313 [==============================] - 5s 14ms/step - loss: 0.4538 - accuracy: 0.8787\n",
      "Iteration 7: nombre de neurones: 2000\n",
      "313/313 [==============================] - 5s 15ms/step - loss: 0.3857 - accuracy: 0.8973\n"
     ]
    }
   ],
   "source": [
    "accuracy=list()\n",
    "parameters_one={ \"use_lambda_out\":False,\n",
    "                 \"use_lambda_in\":False,\n",
    "                 \"trainable_SM_kernel\":True,\n",
    "                 \"use_bias\":False,\n",
    "                 \"kernel_initializer\":\"glorot_uniform\"\n",
    "           }\n",
    "\n",
    "N2=[20,80,100,500,800,1000,1500,2000]\n",
    "epochs = 10\n",
    "batch_size=512\n",
    "\n",
    "for i in range(len(N2)):\n",
    "    print(f\"Iteration {i}: nombre de neurones: {N2[i]}\")\n",
    "\n",
    "    model1 = tf.keras.Sequential()\n",
    "    model1.add(tf.keras.layers.Input(shape=(28,28,1)))\n",
    "    \n",
    "    \n",
    "    model1.add(SpectralConv2D_one(filters=1, kernel_size=3, strides=1, padding=\"VALID\", activation=\"relu\",**parameters_one))\n",
    "    model1.add(keras.layers.MaxPooling2D((2,2)))\n",
    "    model1.add(keras.layers.Dropout(0.2))       \n",
    "                       \n",
    "    model1.add(keras.layers.Flatten())     \n",
    "    \n",
    "    model1.add(Spectral(N2[i], **spectral_config,use_bias=True, activation='relu'))\n",
    "    model1.add(keras.layers.Dropout(0.5))\n",
    "    model1.add(Spectral(10, **spectral_config,use_bias=False, activation='softmax'))\n",
    "               \n",
    "    opt = tf.keras.optimizers.Adam(learning_rate=0.03)\n",
    "    model1.compile(optimizer=opt, loss='sparse_categorical_crossentropy', metrics=['accuracy'])\n",
    "    history = model1.fit(x_train, y_train, batch_size=batch_size, epochs=epochs,verbose=0)\n",
    "    accuracy.append(model1.evaluate(x_test,y_test,batch_size=32,verbose=\"auto\"))"
   ]
  },
  {
   "cell_type": "code",
   "execution_count": 8,
   "id": "aa2e5ad1-6627-4420-8b9e-80c94536bdec",
   "metadata": {},
   "outputs": [],
   "source": [
    "score1=list()\n",
    "for i in range(len(N2)):\n",
    "    score1.append(accuracy[i][1])"
   ]
  },
  {
   "cell_type": "code",
   "execution_count": 9,
   "id": "87398dbb-8460-4eb5-97ac-0d653ef2c756",
   "metadata": {},
   "outputs": [],
   "source": [
    "## Train phi and Lambda in , out=0, initialiser in=1"
   ]
  },
  {
   "cell_type": "code",
   "execution_count": 10,
   "id": "003802a4-66f7-4fef-8297-f80b2a768636",
   "metadata": {},
   "outputs": [
    {
     "name": "stdout",
     "output_type": "stream",
     "text": [
      "Iteration 0: nombre de neurones: 20\n",
      "313/313 [==============================] - 5s 14ms/step - loss: 1.3223 - accuracy: 0.6670\n",
      "Iteration 1: nombre de neurones: 80\n",
      "313/313 [==============================] - 5s 16ms/step - loss: 1.0397 - accuracy: 0.7254\n",
      "Iteration 2: nombre de neurones: 100\n",
      "313/313 [==============================] - 6s 18ms/step - loss: 0.8983 - accuracy: 0.7784\n",
      "Iteration 3: nombre de neurones: 500\n",
      "313/313 [==============================] - 5s 16ms/step - loss: 0.5218 - accuracy: 0.8709\n",
      "Iteration 4: nombre de neurones: 800\n",
      "313/313 [==============================] - 5s 16ms/step - loss: 0.3981 - accuracy: 0.8899\n",
      "Iteration 5: nombre de neurones: 1000\n",
      "313/313 [==============================] - 5s 16ms/step - loss: 0.3775 - accuracy: 0.8949\n",
      "Iteration 6: nombre de neurones: 1500\n",
      "313/313 [==============================] - 6s 17ms/step - loss: 0.3077 - accuracy: 0.9130\n",
      "Iteration 7: nombre de neurones: 2000\n",
      "313/313 [==============================] - 5s 17ms/step - loss: 0.3239 - accuracy: 0.9023\n"
     ]
    }
   ],
   "source": [
    "accuracy=list()\n",
    "parameters_one={ \"use_lambda_out\":False,\n",
    "                 \"use_lambda_in\":True,\n",
    "                 \"trainable_SM_kernel\":True,\n",
    "                 \"use_bias\":False,\n",
    "                 \"kernel_initializer\":\"glorot_uniform\"\n",
    "           }\n",
    "N2=[20,80,100,500,800,1000,1500,2000]\n",
    "epochs = 10\n",
    "batch_size=512\n",
    "\n",
    "for i in range(len(N2)):\n",
    "    print(f\"Iteration {i}: nombre de neurones: {N2[i]}\")\n",
    "\n",
    "    model2 = tf.keras.Sequential()\n",
    "    model2.add(tf.keras.layers.Input(shape=(28,28,1)))\n",
    "    \n",
    "    \n",
    "    model2.add(SpectralConv2D_one(filters=1, kernel_size=3, strides=1, padding=\"VALID\", activation=\"relu\",**parameters_one))\n",
    "    model2.add(keras.layers.MaxPooling2D((2,2)))\n",
    "    model2.add(keras.layers.Dropout(0.2))       \n",
    "                       \n",
    "    model2.add(keras.layers.Flatten())     \n",
    "    \n",
    "    model2.add(Spectral(N2[i], **spectral_config,use_bias=True, activation='relu'))\n",
    "    model2.add(keras.layers.Dropout(0.5))\n",
    "    model2.add(Spectral(10, **spectral_config,use_bias=False, activation='softmax'))\n",
    "               \n",
    "    opt = tf.keras.optimizers.Adam(learning_rate=0.03)\n",
    "    model2.compile(optimizer=opt, loss='sparse_categorical_crossentropy', metrics=['accuracy'])\n",
    "    history = model2.fit(x_train, y_train, batch_size=batch_size, epochs=epochs,verbose=0)\n",
    "    accuracy.append(model2.evaluate(x_test,y_test,batch_size=32,verbose=\"auto\"))"
   ]
  },
  {
   "cell_type": "code",
   "execution_count": 11,
   "id": "2093172e-fdb1-4545-9638-23b6174f2512",
   "metadata": {},
   "outputs": [],
   "source": [
    "score2=list()\n",
    "for i in range(len(N2)):\n",
    "    score2.append(accuracy[i][1])"
   ]
  },
  {
   "cell_type": "code",
   "execution_count": 12,
   "id": "4de4bc1e-00f6-48a7-abb0-259e185f9fe7",
   "metadata": {},
   "outputs": [],
   "source": [
    "## Train phi and Lambda out, in=1, initialiser out=0"
   ]
  },
  {
   "cell_type": "code",
   "execution_count": 13,
   "id": "8fc31525-4fa7-426a-9594-4ec52686cb20",
   "metadata": {},
   "outputs": [
    {
     "name": "stdout",
     "output_type": "stream",
     "text": [
      "Iteration 0: nombre de neurones: 20\n",
      "313/313 [==============================] - 5s 16ms/step - loss: 1.4518 - accuracy: 0.5837\n",
      "Iteration 1: nombre de neurones: 80\n",
      "313/313 [==============================] - 5s 16ms/step - loss: 1.0496 - accuracy: 0.7292\n",
      "Iteration 2: nombre de neurones: 100\n",
      "313/313 [==============================] - 5s 16ms/step - loss: 1.0230 - accuracy: 0.7573\n",
      "Iteration 3: nombre de neurones: 500\n",
      "313/313 [==============================] - 5s 16ms/step - loss: 0.5195 - accuracy: 0.8643\n",
      "Iteration 4: nombre de neurones: 800\n",
      "313/313 [==============================] - 5s 16ms/step - loss: 0.4397 - accuracy: 0.8807\n",
      "Iteration 5: nombre de neurones: 1000\n",
      "313/313 [==============================] - 5s 16ms/step - loss: 0.3872 - accuracy: 0.8944\n",
      "Iteration 6: nombre de neurones: 1500\n",
      "313/313 [==============================] - 6s 20ms/step - loss: 0.3337 - accuracy: 0.9038\n",
      "Iteration 7: nombre de neurones: 2000\n",
      "313/313 [==============================] - 6s 19ms/step - loss: 0.3186 - accuracy: 0.9134\n"
     ]
    }
   ],
   "source": [
    "accuracy=list()\n",
    "parameters_one={ \"use_lambda_out\":True,\n",
    "                 \"use_lambda_in\":False,\n",
    "                 \"trainable_SM_kernel\":True,\n",
    "                 \"use_bias\":False,\n",
    "                 \"kernel_initializer\":\"glorot_uniform\"\n",
    "           }\n",
    "N2=[20,80,100,500,800,1000,1500,2000]\n",
    "epochs = 10\n",
    "batch_size=512\n",
    "\n",
    "for i in range(len(N2)):\n",
    "    print(f\"Iteration {i}: nombre de neurones: {N2[i]}\")\n",
    "\n",
    "    model3 = tf.keras.Sequential()\n",
    "    model3.add(tf.keras.layers.Input(shape=(28,28,1)))\n",
    "    \n",
    "    \n",
    "    model3.add(SpectralConv2D_one(filters=1, kernel_size=3, strides=1, padding=\"VALID\", activation=\"relu\",**parameters_one))\n",
    "    model3.add(keras.layers.MaxPooling2D((2,2)))\n",
    "    model3.add(keras.layers.Dropout(0.2))       \n",
    "                       \n",
    "    model3.add(keras.layers.Flatten())     \n",
    "    \n",
    "    model3.add(Spectral(N2[i], **spectral_config,use_bias=True, activation='relu'))\n",
    "    model3.add(keras.layers.Dropout(0.5))\n",
    "    model3.add(Spectral(10, **spectral_config,use_bias=False, activation='softmax'))\n",
    "               \n",
    "    opt = tf.keras.optimizers.Adam(learning_rate=0.03)\n",
    "    model3.compile(optimizer=opt, loss='sparse_categorical_crossentropy', metrics=['accuracy'])\n",
    "    history = model3.fit(x_train, y_train, batch_size=batch_size, epochs=epochs,verbose=0)\n",
    "    accuracy.append(model3.evaluate(x_test,y_test,batch_size=32,verbose=\"auto\"))"
   ]
  },
  {
   "cell_type": "code",
   "execution_count": 14,
   "id": "423123d0-0d1a-40b1-b048-405b953b3c2c",
   "metadata": {},
   "outputs": [],
   "source": [
    "score3=list()\n",
    "for i in range(len(N2)):\n",
    "    score3.append(accuracy[i][1])"
   ]
  },
  {
   "cell_type": "code",
   "execution_count": 15,
   "id": "78b21003-b09d-4ba2-999d-49c23ee53eb8",
   "metadata": {},
   "outputs": [],
   "source": [
    "## Train phi and Lambda out and Lambda in"
   ]
  },
  {
   "cell_type": "code",
   "execution_count": 16,
   "id": "82a1645a-fcb1-40e5-879e-7b4172b5484d",
   "metadata": {},
   "outputs": [
    {
     "name": "stdout",
     "output_type": "stream",
     "text": [
      "Iteration 0: nombre de neurones: 20\n",
      "313/313 [==============================] - 16s 44ms/step - loss: 1.0219 - accuracy: 0.7786\n",
      "Iteration 1: nombre de neurones: 80\n",
      "313/313 [==============================] - 5s 16ms/step - loss: 0.8520 - accuracy: 0.7790\n",
      "Iteration 2: nombre de neurones: 100\n",
      "313/313 [==============================] - 5s 16ms/step - loss: 0.7305 - accuracy: 0.8411\n",
      "Iteration 3: nombre de neurones: 500\n",
      "313/313 [==============================] - 5s 15ms/step - loss: 0.4029 - accuracy: 0.8921\n",
      "Iteration 4: nombre de neurones: 800\n",
      "313/313 [==============================] - 5s 14ms/step - loss: 0.3613 - accuracy: 0.9030\n",
      "Iteration 5: nombre de neurones: 1000\n",
      "313/313 [==============================] - 6s 18ms/step - loss: 0.3564 - accuracy: 0.9057\n",
      "Iteration 6: nombre de neurones: 1500\n",
      "313/313 [==============================] - 5s 16ms/step - loss: 0.2610 - accuracy: 0.9289\n",
      "Iteration 7: nombre de neurones: 2000\n",
      "313/313 [==============================] - 5s 16ms/step - loss: 0.2941 - accuracy: 0.9155\n"
     ]
    }
   ],
   "source": [
    "accuracy=list()\n",
    "parameters_one={ \"use_lambda_out\":True,\n",
    "                 \"use_lambda_in\":True,\n",
    "                 \"trainable_SM_kernel\":True,\n",
    "                 \"use_bias\":False,\n",
    "                 \"kernel_initializer\":\"glorot_uniform\"\n",
    "           }\n",
    "N2=[20,80,100,500,800,1000,1500,2000]\n",
    "epochs = 10\n",
    "batch_size=512\n",
    "\n",
    "for i in range(len(N2)):\n",
    "    print(f\"Iteration {i}: nombre de neurones: {N2[i]}\")\n",
    "\n",
    "    model4 = tf.keras.Sequential()\n",
    "    model4.add(tf.keras.layers.Input(shape=(28,28,1)))\n",
    "    \n",
    "    \n",
    "    model4.add(SpectralConv2D_one(filters=1, kernel_size=3, strides=1, padding=\"VALID\", activation=\"relu\",**parameters_one))\n",
    "    model4.add(keras.layers.MaxPooling2D((2,2)))\n",
    "    model4.add(keras.layers.Dropout(0.2))       \n",
    "                       \n",
    "    model4.add(keras.layers.Flatten())     \n",
    "    \n",
    "    model4.add(Spectral(N2[i], **spectral_config,use_bias=True, activation='relu'))\n",
    "    model4.add(keras.layers.Dropout(0.5))\n",
    "    model4.add(Spectral(10, **spectral_config,use_bias=False, activation='softmax'))\n",
    "               \n",
    "    opt = tf.keras.optimizers.Adam(learning_rate=0.03)\n",
    "    model4.compile(optimizer=opt, loss='sparse_categorical_crossentropy', metrics=['accuracy'])\n",
    "    history = model4.fit(x_train, y_train, batch_size=batch_size, epochs=epochs,verbose=0)\n",
    "    accuracy.append(model4.evaluate(x_test,y_test,batch_size=32,verbose=\"auto\"))"
   ]
  },
  {
   "cell_type": "code",
   "execution_count": 17,
   "id": "c02d5b41-fb1f-4a5e-b042-ea2aea41ddc9",
   "metadata": {},
   "outputs": [],
   "source": [
    "score4=list()\n",
    "for i in range(len(N2)):\n",
    "    score4.append(accuracy[i][1])"
   ]
  },
  {
   "cell_type": "code",
   "execution_count": 18,
   "id": "b77cc677-0b20-4ec7-aa43-0618b41e90d4",
   "metadata": {},
   "outputs": [],
   "source": [
    "## Reference"
   ]
  },
  {
   "cell_type": "code",
   "execution_count": 20,
   "id": "087e0d3e-e2dc-483e-9319-1e97d31410d9",
   "metadata": {},
   "outputs": [
    {
     "name": "stdout",
     "output_type": "stream",
     "text": [
      "Iteration 0: nombre de neurones: 20\n",
      "313/313 [==============================] - 1s 3ms/step - loss: 0.3744 - accuracy: 0.9019\n",
      "Iteration 1: nombre de neurones: 80\n",
      "313/313 [==============================] - 1s 4ms/step - loss: 0.1714 - accuracy: 0.9461\n",
      "Iteration 2: nombre de neurones: 100\n",
      "313/313 [==============================] - 1s 4ms/step - loss: 0.1709 - accuracy: 0.9518\n",
      "Iteration 3: nombre de neurones: 500\n",
      "313/313 [==============================] - 1s 3ms/step - loss: 0.1200 - accuracy: 0.9627\n",
      "Iteration 4: nombre de neurones: 800\n",
      "313/313 [==============================] - 1s 4ms/step - loss: 0.1482 - accuracy: 0.9612\n",
      "Iteration 5: nombre de neurones: 1000\n",
      "313/313 [==============================] - 1s 4ms/step - loss: 0.1075 - accuracy: 0.9674\n",
      "Iteration 6: nombre de neurones: 1500\n",
      "313/313 [==============================] - 1s 4ms/step - loss: 0.1246 - accuracy: 0.9627\n",
      "Iteration 7: nombre de neurones: 2000\n",
      "313/313 [==============================] - 2s 5ms/step - loss: 0.1247 - accuracy: 0.9616\n"
     ]
    }
   ],
   "source": [
    "accuracy=list()\n",
    "\n",
    "N2=[20,80,100,500,800,1000,1500,2000]\n",
    "epochs = 10\n",
    "batch_size=512\n",
    "\n",
    "for i in range(len(N2)):\n",
    "\n",
    "    print(f\"Iteration {i}: nombre de neurones: {N2[i]}\")\n",
    "    model5 = tf.keras.Sequential()\n",
    "    model5.add(tf.keras.layers.Input(shape=(28,28,1)))\n",
    "\n",
    "    \n",
    "    model5.add(keras.layers.Conv2D(1,(3,3), use_bias=False,activation=\"relu\"))\n",
    "    model5.add(keras.layers.MaxPooling2D((2,2)))\n",
    "    model5.add(keras.layers.Dropout(0.2))   \n",
    "\n",
    "    model5.add(keras.layers.Flatten())  \n",
    "\n",
    "\n",
    "    model5.add(Dense(N2[i],use_bias=True,activation='relu'))\n",
    "    model5.add(keras.layers.Dropout(0.5))\n",
    "    model5.add(Dense(10, use_bias=False, activation='softmax'))\n",
    "    \n",
    "               \n",
    "    opt = tf.keras.optimizers.Adam(learning_rate=0.03)\n",
    "    model5.compile(optimizer=opt, loss='sparse_categorical_crossentropy', metrics=['accuracy'])\n",
    "    history = model5.fit(x_train, y_train, batch_size=batch_size, epochs=epochs,verbose=0)\n",
    "    accuracy.append(model5.evaluate(x_test,y_test,batch_size=32,verbose=\"auto\"))"
   ]
  },
  {
   "cell_type": "code",
   "execution_count": 24,
   "id": "cef263b0-e543-4ca2-874c-c15d55c74669",
   "metadata": {},
   "outputs": [],
   "source": [
    "score5=list()\n",
    "for i in range(len(N2)):\n",
    "    score5.append(accuracy[i][1])"
   ]
  },
  {
   "cell_type": "code",
   "execution_count": 26,
   "id": "8d5a0005-758d-491c-be65-8c13d97b6ccd",
   "metadata": {},
   "outputs": [
    {
     "data": {
      "image/png": "[encoded data removed]",
      "text/plain": [
       "<Figure size 1200x700 with 1 Axes>"
      ]
     },
     "metadata": {},
     "output_type": "display_data"
    }
   ],
   "source": [
    "fig=plt.figure(num=1,figsize=(12,7)) \n",
    "plt.plot(N2,score1, \"k-\")\n",
    "plt.plot(N2,score2, \"b:\")\n",
    "plt.plot(N2,score3, \"r\")\n",
    "plt.plot(N2,score4, \"m--\"  )\n",
    "plt.plot(N2,score5, \"c\"  )\n",
    "\n",
    "\n",
    "\n",
    "\n",
    "plt.axis([15, 2000, 0, 1])\n",
    "\n",
    "\n",
    "plt.xlabel(\"$N_{2}+N_{3}$\")\n",
    "plt.ylabel(\"accuracy\")\n",
    "plt.title(\"Model performance\")\n",
    "\n",
    " #'ConvNet constraint',\n",
    "plt.legend(['Spectral conv2D $\\phi$',\n",
    "            'spectral conv2D $\\phi$ and $\\lambda^{in}$',\n",
    "            'spectral conv2D $\\phi$ and $\\lambda^{out}$',\n",
    "           'spectral conv2D $\\phi$ and $\\lambda^{out}$ and $\\lambda^{in} $',\n",
    "           'Reference'],\n",
    "           loc='lower right')\n",
    "\n",
    "plt.show()"
   ]
  },
  {
   "cell_type": "code",
   "execution_count": null,
   "id": "1d73147b-ca1c-47b9-aaf3-25c885253191",
   "metadata": {},
   "outputs": [],
   "source": []
  }
 ],
 "metadata": {
  "kernelspec": {
   "display_name": "Python 3 (ipykernel)",
   "language": "python",
   "name": "python3"
  },
  "language_info": {
   "codemirror_mode": {
    "name": "ipython",
    "version": 3
   },
   "file_extension": ".py",
   "mimetype": "text/x-python",
   "name": "python",
   "nbconvert_exporter": "python",
   "pygments_lexer": "ipython3",
   "version": "3.11.2"
  }
 },
 "nbformat": 4,
 "nbformat_minor": 5
}
